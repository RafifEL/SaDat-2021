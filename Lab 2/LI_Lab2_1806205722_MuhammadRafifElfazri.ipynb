{
  "nbformat": 4,
  "nbformat_minor": 0,
  "metadata": {
    "kernelspec": {
      "display_name": "Python 3",
      "language": "python",
      "name": "python3"
    },
    "language_info": {
      "codemirror_mode": {
        "name": "ipython",
        "version": 3
      },
      "file_extension": ".py",
      "mimetype": "text/x-python",
      "name": "python",
      "nbconvert_exporter": "python",
      "pygments_lexer": "ipython3",
      "version": "3.8.5"
    },
    "colab": {
      "name": "LI_Lab2_1806205722_MuhammadRafifElfazri.ipynb",
      "provenance": [],
      "collapsed_sections": [
        "n96smvk6hQ4-",
        "ZqmzvLtQhQ5M"
      ]
    }
  },
  "cells": [
    {
      "cell_type": "markdown",
      "metadata": {
        "id": "EwrpZST3hQ40"
      },
      "source": [
        "<center><h1>Lab 2</h1></center>\n",
        "\n",
        "<center><h2>Sains Data Genap 2020/2021</h2></center>\n",
        "\n",
        "<center><h2>Deadline: 7 Maret 2021, 23.55 WIB</h2></center>"
      ]
    },
    {
      "cell_type": "markdown",
      "metadata": {
        "id": "FgdOpd7PhQ46"
      },
      "source": [
        "### Petunjuk Umum\n",
        "\n",
        "1.   Buka dokumen Jupyter Notebook **Lab2.ipynb** yang telah disediakan di scele.\n",
        "2.   Lengkapi data **NPM**, **KOLABORATOR** (jika ada), dan **REFERENSI** (jika ada), pada cell di bawah Petunjuk Umum.\n",
        "3.   Jalankan kode yang telah disediakan dan perhatikan dengan saksama apa yang potongan kode tersebut lakukan beserta dengan keluarannya. Jawablah **pertanyaan pada bagian akhir dokumen** sesuai dengan perintah yang diberikan.\n",
        "4.   Dokumen Jupyter Notebook yang telah dijawab dikumpulkan dengan format penamaan **KodeAsdos_Lab2_NPM_Nama.ipynb**. Contoh: LI_Lab2_1706979341_Lulu Ilmaknun Qurotaini.ipynb\n",
        "5.    Kumpulkan pada submisi yang telah disediakan di scele sebelum **7 Maret 2021, 23.55 WIB**."
      ]
    },
    {
      "cell_type": "code",
      "metadata": {
        "id": "AnEUItakp7EY"
      },
      "source": [
        "#Input NPM\r\n",
        "NPM = \"1806205722\"\r\n",
        "\r\n",
        "#Input NPM teman yang berkolaborasi dengan Anda dalam mengerjakan tugas ini (jika ada)\r\n",
        "KOLABORATOR = []\r\n",
        "\r\n",
        "#Input link referensi atau sumber lain yang Anda gunakan dalam menyelesaikan tugas ini (jika ada)\r\n",
        "REFERENSI = []"
      ],
      "execution_count": 1,
      "outputs": []
    },
    {
      "cell_type": "markdown",
      "metadata": {
        "id": "AwN5NSw0hQ46"
      },
      "source": [
        "# Pengenalan NumPy"
      ]
    },
    {
      "cell_type": "markdown",
      "metadata": {
        "id": "7nfxPaTRhQ47"
      },
      "source": [
        "[NumPy](https://numpy.org/) (Numerical Python) adalah library Python yang berfokus pada <i>Scientific computing</i>. NumPy menyerupai List pada Python, hanya saja NumPy memiliki beberapa kelebihan seperti penggunaan memory yang lebih kecil, runtime yang lebih cepat, dan memudahkan kita melakukan operasi vektor dan matriks. Hal ini menyebabkan NumPy menjadi salah satu library yang banyak digunakan dalam proses analisis data."
      ]
    },
    {
      "cell_type": "code",
      "metadata": {
        "id": "okY6L78ShQ47"
      },
      "source": [
        "# import library NumPy\n",
        "import numpy as np"
      ],
      "execution_count": 2,
      "outputs": []
    },
    {
      "cell_type": "markdown",
      "metadata": {
        "id": "Ihb7n9fthQ47"
      },
      "source": [
        "## Array NumPy"
      ]
    },
    {
      "cell_type": "markdown",
      "metadata": {
        "id": "r5eyeZR-hQ48"
      },
      "source": [
        "Untuk membuat sebuah array baru, kita dapat membuat python List kemudian diubah menjadi NumPy array"
      ]
    },
    {
      "cell_type": "code",
      "metadata": {
        "id": "Zu07vTK0hQ48",
        "colab": {
          "base_uri": "https://localhost:8080/"
        },
        "outputId": "6842ed0b-9c51-423a-d2aa-6dc90bad8e4b"
      },
      "source": [
        "# Membuat python List\n",
        "py_lst = [1,2,3,4,5]\n",
        "# Membuat numpy array\n",
        "np_arr = np.array(py_lst)\n",
        "np_arr"
      ],
      "execution_count": 3,
      "outputs": [
        {
          "output_type": "execute_result",
          "data": {
            "text/plain": [
              "array([1, 2, 3, 4, 5])"
            ]
          },
          "metadata": {
            "tags": []
          },
          "execution_count": 3
        }
      ]
    },
    {
      "cell_type": "markdown",
      "metadata": {
        "id": "-CNu17b8hQ49"
      },
      "source": [
        "Atau kita juga dapat menggunakan fungsi <code>array()</code> yang terdapat pada NumPy"
      ]
    },
    {
      "cell_type": "code",
      "metadata": {
        "id": "7EQxVXKrhQ49",
        "colab": {
          "base_uri": "https://localhost:8080/"
        },
        "outputId": "79c3bd8b-2295-42ed-8692-871c6ac04240"
      },
      "source": [
        "# Membuat numpy array\n",
        "arr = np.array([10,20,30,40,50])\n",
        "arr"
      ],
      "execution_count": 4,
      "outputs": [
        {
          "output_type": "execute_result",
          "data": {
            "text/plain": [
              "array([10, 20, 30, 40, 50])"
            ]
          },
          "metadata": {
            "tags": []
          },
          "execution_count": 4
        }
      ]
    },
    {
      "cell_type": "markdown",
      "metadata": {
        "id": "SA_ZNvpdhQ4-"
      },
      "source": [
        "Terdapat beberapa fungsi bawaan yang dapat digunakan untuk membuat array"
      ]
    },
    {
      "cell_type": "code",
      "metadata": {
        "id": "m87ZpDumhQ4-",
        "colab": {
          "base_uri": "https://localhost:8080/"
        },
        "outputId": "cf7ade51-359f-4b3e-81d4-d848129dc430"
      },
      "source": [
        "# Membuat array dengan nilai 0 sebanyak 5\n",
        "print(\"np.zeros(5) : \",np.zeros(5))\n",
        "\n",
        "# Membuat array dengan nilai 1 sebanyak 5\n",
        "print(\"np.ones(5) : \",np.ones(5))\n",
        "\n",
        "# Membuat array dengan nilai dalam range 1 sampai 10 dengan step sebesar 2\n",
        "print(\"np.arange(1,10,2) : \",np.arange(1,10,2))\n",
        "\n",
        "# Membuat array dengan nilai dalam range 1 sampai 10 sebanyak 4 dengan interval yang sama\n",
        "print(\"np.linspace(1,10,4) : \",np.linspace(1,10,4))"
      ],
      "execution_count": 5,
      "outputs": [
        {
          "output_type": "stream",
          "text": [
            "np.zeros(5) :  [0. 0. 0. 0. 0.]\n",
            "np.ones(5) :  [1. 1. 1. 1. 1.]\n",
            "np.arange(1,10,2) :  [1 3 5 7 9]\n",
            "np.linspace(1,10,4) :  [ 1.  4.  7. 10.]\n"
          ],
          "name": "stdout"
        }
      ]
    },
    {
      "cell_type": "markdown",
      "metadata": {
        "id": "n96smvk6hQ4-"
      },
      "source": [
        "## Array Multidimensi"
      ]
    },
    {
      "cell_type": "markdown",
      "metadata": {
        "id": "L5w2wl8-hQ4-"
      },
      "source": [
        "Selain array 1 dimensi, numpy juga mempunyai kemampuan untuk membuat dan memanipulasi array multidimensi dengan mudah"
      ]
    },
    {
      "cell_type": "code",
      "metadata": {
        "id": "_D8VfLPMhQ4_",
        "colab": {
          "base_uri": "https://localhost:8080/"
        },
        "outputId": "89578f82-a8a8-4edf-f5e7-4912d4ca64f7"
      },
      "source": [
        "# Membuat numpy array multidimensi / matrix\n",
        "mult_arr = np.array([[1,2,3],[4,5,6],[10,20,30]])\n",
        "mult_arr"
      ],
      "execution_count": 6,
      "outputs": [
        {
          "output_type": "execute_result",
          "data": {
            "text/plain": [
              "array([[ 1,  2,  3],\n",
              "       [ 4,  5,  6],\n",
              "       [10, 20, 30]])"
            ]
          },
          "metadata": {
            "tags": []
          },
          "execution_count": 6
        }
      ]
    },
    {
      "cell_type": "markdown",
      "metadata": {
        "id": "Z79slr7ihQ4_"
      },
      "source": [
        "## Menampilkan Atribut dari Array"
      ]
    },
    {
      "cell_type": "markdown",
      "metadata": {
        "id": "D2F1qOurhQ4_"
      },
      "source": [
        "Untuk mengetahui jumlah elemen dari sebuah array, kita dapat menggunakan <code>size</code>"
      ]
    },
    {
      "cell_type": "code",
      "metadata": {
        "id": "KSman9R5hQ4_",
        "colab": {
          "base_uri": "https://localhost:8080/"
        },
        "outputId": "bfaf2620-15de-4826-bb85-910f351753b1"
      },
      "source": [
        "print(arr)\n",
        "# Menunjukkan ukuran array\n",
        "arr.size"
      ],
      "execution_count": 7,
      "outputs": [
        {
          "output_type": "stream",
          "text": [
            "[10 20 30 40 50]\n"
          ],
          "name": "stdout"
        },
        {
          "output_type": "execute_result",
          "data": {
            "text/plain": [
              "5"
            ]
          },
          "metadata": {
            "tags": []
          },
          "execution_count": 7
        }
      ]
    },
    {
      "cell_type": "code",
      "metadata": {
        "id": "jEz_Uie6hQ5A",
        "colab": {
          "base_uri": "https://localhost:8080/"
        },
        "outputId": "46768b47-940d-4752-cf73-1bdf315539a6"
      },
      "source": [
        "print(mult_arr)\n",
        "# Menunjukkan ukuran array multidimensi\n",
        "mult_arr.size"
      ],
      "execution_count": 8,
      "outputs": [
        {
          "output_type": "stream",
          "text": [
            "[[ 1  2  3]\n",
            " [ 4  5  6]\n",
            " [10 20 30]]\n"
          ],
          "name": "stdout"
        },
        {
          "output_type": "execute_result",
          "data": {
            "text/plain": [
              "9"
            ]
          },
          "metadata": {
            "tags": []
          },
          "execution_count": 8
        }
      ]
    },
    {
      "cell_type": "markdown",
      "metadata": {
        "id": "Yfj7oB4LhQ5A"
      },
      "source": [
        "Menggunakan <code>ndim</code> kita dapat mengetahui jumlah dimensi atau rank dari sebuah array"
      ]
    },
    {
      "cell_type": "code",
      "metadata": {
        "id": "a8leurRShQ5A",
        "colab": {
          "base_uri": "https://localhost:8080/"
        },
        "outputId": "b9f76369-6a4a-4a9e-cee3-e88e6dff0e1f"
      },
      "source": [
        "# Menunjukkan rank dari array\n",
        "mult_arr.ndim"
      ],
      "execution_count": 9,
      "outputs": [
        {
          "output_type": "execute_result",
          "data": {
            "text/plain": [
              "2"
            ]
          },
          "metadata": {
            "tags": []
          },
          "execution_count": 9
        }
      ]
    },
    {
      "cell_type": "markdown",
      "metadata": {
        "id": "ac4esNNZhQ5A"
      },
      "source": [
        "Untuk mengetahui ukuran dari setiap dimensi array menggunakan <code>shape</code>"
      ]
    },
    {
      "cell_type": "code",
      "metadata": {
        "id": "GYCpv9YmhQ5B",
        "colab": {
          "base_uri": "https://localhost:8080/"
        },
        "outputId": "d2992232-dcd8-4c8f-8201-c7dd9b7b2cc1"
      },
      "source": [
        "# Mengetahui shape sebuah array\n",
        "arr.shape"
      ],
      "execution_count": 10,
      "outputs": [
        {
          "output_type": "execute_result",
          "data": {
            "text/plain": [
              "(5,)"
            ]
          },
          "metadata": {
            "tags": []
          },
          "execution_count": 10
        }
      ]
    },
    {
      "cell_type": "code",
      "metadata": {
        "id": "bM3AvjoxhQ5B",
        "colab": {
          "base_uri": "https://localhost:8080/"
        },
        "outputId": "72e85de0-0687-4293-a4e9-3e314ea92ade"
      },
      "source": [
        "# Mengetahui shape sebuah array multidimensi\n",
        "mult_arr.shape"
      ],
      "execution_count": 11,
      "outputs": [
        {
          "output_type": "execute_result",
          "data": {
            "text/plain": [
              "(3, 3)"
            ]
          },
          "metadata": {
            "tags": []
          },
          "execution_count": 11
        }
      ]
    },
    {
      "cell_type": "markdown",
      "metadata": {
        "id": "HsQKEiM7hQ5B"
      },
      "source": [
        "## Cek Tipe"
      ]
    },
    {
      "cell_type": "markdown",
      "metadata": {
        "id": "gf58sK2vhQ5C"
      },
      "source": [
        "Kita dapat mengetahui tipe dari sebuah objek menggunakan fungsi <code>type()</code>"
      ]
    },
    {
      "cell_type": "code",
      "metadata": {
        "id": "KhnPsBqzhQ5C",
        "colab": {
          "base_uri": "https://localhost:8080/"
        },
        "outputId": "334e6725-88a4-49c7-e2e4-de2dbeb9881e"
      },
      "source": [
        "py_lst = [1,2,3,4,5]\n",
        "type(py_lst)"
      ],
      "execution_count": 12,
      "outputs": [
        {
          "output_type": "execute_result",
          "data": {
            "text/plain": [
              "list"
            ]
          },
          "metadata": {
            "tags": []
          },
          "execution_count": 12
        }
      ]
    },
    {
      "cell_type": "code",
      "metadata": {
        "id": "tvieGyk3hQ5C",
        "colab": {
          "base_uri": "https://localhost:8080/"
        },
        "outputId": "b32fba15-72bd-4090-d56c-c3c768bccb40"
      },
      "source": [
        "np_arr"
      ],
      "execution_count": 13,
      "outputs": [
        {
          "output_type": "execute_result",
          "data": {
            "text/plain": [
              "array([1, 2, 3, 4, 5])"
            ]
          },
          "metadata": {
            "tags": []
          },
          "execution_count": 13
        }
      ]
    },
    {
      "cell_type": "markdown",
      "metadata": {
        "id": "upVIZgzqhQ5C"
      },
      "source": [
        "Ketika mengecek numpy array menggunakan fungsi <code>type</code>, maka kita akan mendapatkan <b>numpy.ndarray</b>"
      ]
    },
    {
      "cell_type": "code",
      "metadata": {
        "id": "5UI65pY0hQ5D",
        "colab": {
          "base_uri": "https://localhost:8080/"
        },
        "outputId": "cf845454-c8ec-46aa-bf3c-eec2674b793f"
      },
      "source": [
        "# Mengecek tipe dari array\n",
        "type(np_arr)"
      ],
      "execution_count": 14,
      "outputs": [
        {
          "output_type": "execute_result",
          "data": {
            "text/plain": [
              "numpy.ndarray"
            ]
          },
          "metadata": {
            "tags": []
          },
          "execution_count": 14
        }
      ]
    },
    {
      "cell_type": "markdown",
      "metadata": {
        "id": "4mYwFjIYhQ5D"
      },
      "source": [
        "Untuk mengecek tipe data yang ada di dalam sebuah numpy array dapat menggunakan <code>dtype</code>"
      ]
    },
    {
      "cell_type": "code",
      "metadata": {
        "id": "2cdhWrSOhQ5D",
        "colab": {
          "base_uri": "https://localhost:8080/"
        },
        "outputId": "dc626414-6408-446c-a396-5c4b20a39f5b"
      },
      "source": [
        "# Mengecek tipe data dari array\n",
        "np_arr.dtype"
      ],
      "execution_count": 15,
      "outputs": [
        {
          "output_type": "execute_result",
          "data": {
            "text/plain": [
              "dtype('int64')"
            ]
          },
          "metadata": {
            "tags": []
          },
          "execution_count": 15
        }
      ]
    },
    {
      "cell_type": "markdown",
      "metadata": {
        "id": "SWUt2ischQ5D"
      },
      "source": [
        "## Indexing, Slicing, dan Assigning Value pada Array"
      ]
    },
    {
      "cell_type": "code",
      "metadata": {
        "id": "HoOFhPKghQ5D",
        "colab": {
          "base_uri": "https://localhost:8080/"
        },
        "outputId": "aeadff38-4924-4a08-add8-60c0f4c1109d"
      },
      "source": [
        "# Membuat numpy array\n",
        "a = np.array([1,2,3,4,5])\n",
        "a"
      ],
      "execution_count": 16,
      "outputs": [
        {
          "output_type": "execute_result",
          "data": {
            "text/plain": [
              "array([1, 2, 3, 4, 5])"
            ]
          },
          "metadata": {
            "tags": []
          },
          "execution_count": 16
        }
      ]
    },
    {
      "cell_type": "markdown",
      "metadata": {
        "id": "YptC-zskhQ5E"
      },
      "source": [
        "Mengakses elemen pertama dari array"
      ]
    },
    {
      "cell_type": "code",
      "metadata": {
        "id": "DzCjG_jJhQ5E",
        "colab": {
          "base_uri": "https://localhost:8080/"
        },
        "outputId": "004e1b35-b16a-4bd3-80f3-04589e24992a"
      },
      "source": [
        "a[0]"
      ],
      "execution_count": 17,
      "outputs": [
        {
          "output_type": "execute_result",
          "data": {
            "text/plain": [
              "1"
            ]
          },
          "metadata": {
            "tags": []
          },
          "execution_count": 17
        }
      ]
    },
    {
      "cell_type": "code",
      "metadata": {
        "id": "34EqczMGhQ5E",
        "colab": {
          "base_uri": "https://localhost:8080/"
        },
        "outputId": "777012fd-9bff-499b-e5e7-40cbceba6a6e"
      },
      "source": [
        "# Membuat numpy array multidimensi\n",
        "A = np.array([[1,2,3],[4,5,6],[7,8,9]])\n",
        "A"
      ],
      "execution_count": 18,
      "outputs": [
        {
          "output_type": "execute_result",
          "data": {
            "text/plain": [
              "array([[1, 2, 3],\n",
              "       [4, 5, 6],\n",
              "       [7, 8, 9]])"
            ]
          },
          "metadata": {
            "tags": []
          },
          "execution_count": 18
        }
      ]
    },
    {
      "cell_type": "code",
      "metadata": {
        "id": "JWmLRZmphQ5E",
        "colab": {
          "base_uri": "https://localhost:8080/"
        },
        "outputId": "58ee4e8f-f193-4ba8-98cf-b933188859e8"
      },
      "source": [
        "# Mengakses elemen baris kedua, kolom ketiga dari sebuah array multidimensi\n",
        "A[1,2]"
      ],
      "execution_count": 19,
      "outputs": [
        {
          "output_type": "execute_result",
          "data": {
            "text/plain": [
              "6"
            ]
          },
          "metadata": {
            "tags": []
          },
          "execution_count": 19
        }
      ]
    },
    {
      "cell_type": "code",
      "metadata": {
        "id": "PSlFAcdwhQ5F",
        "colab": {
          "base_uri": "https://localhost:8080/"
        },
        "outputId": "0e54b28b-90fa-421f-8078-1bdad47f3a94"
      },
      "source": [
        "# Cara lain mengakses elemen baris kedua, kolom ketiga dari sebuah array multidimensi\n",
        "A[1][2]"
      ],
      "execution_count": 20,
      "outputs": [
        {
          "output_type": "execute_result",
          "data": {
            "text/plain": [
              "6"
            ]
          },
          "metadata": {
            "tags": []
          },
          "execution_count": 20
        }
      ]
    },
    {
      "cell_type": "markdown",
      "metadata": {
        "id": "O4K8DnUdhQ5F"
      },
      "source": [
        "Kita dapat melakukan slicing pada numpy array seperti pada List"
      ]
    },
    {
      "cell_type": "code",
      "metadata": {
        "id": "RIuq3wb_hQ5F",
        "colab": {
          "base_uri": "https://localhost:8080/"
        },
        "outputId": "4b7dd131-141a-4ac1-83e7-a261ba3c4a66"
      },
      "source": [
        "a"
      ],
      "execution_count": 21,
      "outputs": [
        {
          "output_type": "execute_result",
          "data": {
            "text/plain": [
              "array([1, 2, 3, 4, 5])"
            ]
          },
          "metadata": {
            "tags": []
          },
          "execution_count": 21
        }
      ]
    },
    {
      "cell_type": "code",
      "metadata": {
        "id": "kAuTlxGlhQ5F",
        "colab": {
          "base_uri": "https://localhost:8080/"
        },
        "outputId": "c0d3a486-90ff-44f5-8bef-d05881ca3936"
      },
      "source": [
        "# Slice elemen index 1 sampai 3\n",
        "b = a[1:4]\n",
        "b"
      ],
      "execution_count": 22,
      "outputs": [
        {
          "output_type": "execute_result",
          "data": {
            "text/plain": [
              "array([2, 3, 4])"
            ]
          },
          "metadata": {
            "tags": []
          },
          "execution_count": 22
        }
      ]
    },
    {
      "cell_type": "code",
      "metadata": {
        "id": "zlzxdLIThQ5G",
        "colab": {
          "base_uri": "https://localhost:8080/"
        },
        "outputId": "0261f08b-0167-453d-c13b-d64d1dae9756"
      },
      "source": [
        "#Slice elemen index 1 sampai ke-1 dari belakang\n",
        "a[1:-1]"
      ],
      "execution_count": 23,
      "outputs": [
        {
          "output_type": "execute_result",
          "data": {
            "text/plain": [
              "array([2, 3, 4])"
            ]
          },
          "metadata": {
            "tags": []
          },
          "execution_count": 23
        }
      ]
    },
    {
      "cell_type": "markdown",
      "metadata": {
        "id": "6mwPQiiVhQ5H"
      },
      "source": [
        "Kita juga dapat melakukan slicing pada array multidimensi"
      ]
    },
    {
      "cell_type": "code",
      "metadata": {
        "id": "zCy4jrewhQ5H",
        "colab": {
          "base_uri": "https://localhost:8080/"
        },
        "outputId": "ad6bb2f4-08cd-4259-fc0a-30400cc701d4"
      },
      "source": [
        "A"
      ],
      "execution_count": 24,
      "outputs": [
        {
          "output_type": "execute_result",
          "data": {
            "text/plain": [
              "array([[1, 2, 3],\n",
              "       [4, 5, 6],\n",
              "       [7, 8, 9]])"
            ]
          },
          "metadata": {
            "tags": []
          },
          "execution_count": 24
        }
      ]
    },
    {
      "cell_type": "code",
      "metadata": {
        "id": "ZvIAK6ifhQ5H",
        "colab": {
          "base_uri": "https://localhost:8080/"
        },
        "outputId": "d5f85a4e-754a-49ec-882e-bc90de5154cf"
      },
      "source": [
        "#Slice elemen dari baris pertama, kolom 1 serta 2\n",
        "A[0][0:2]"
      ],
      "execution_count": 25,
      "outputs": [
        {
          "output_type": "execute_result",
          "data": {
            "text/plain": [
              "array([1, 2])"
            ]
          },
          "metadata": {
            "tags": []
          },
          "execution_count": 25
        }
      ]
    },
    {
      "cell_type": "code",
      "metadata": {
        "id": "eNvHEjCphQ5I",
        "colab": {
          "base_uri": "https://localhost:8080/"
        },
        "outputId": "ff27f048-3aed-4950-96a2-131f7a28c75b"
      },
      "source": [
        "#Slice elemen dari kolom pertama, baris 2 serta 3\n",
        "A[1:3,0]"
      ],
      "execution_count": 26,
      "outputs": [
        {
          "output_type": "execute_result",
          "data": {
            "text/plain": [
              "array([4, 7])"
            ]
          },
          "metadata": {
            "tags": []
          },
          "execution_count": 26
        }
      ]
    },
    {
      "cell_type": "code",
      "metadata": {
        "id": "JItGn-oYhQ5I",
        "colab": {
          "base_uri": "https://localhost:8080/"
        },
        "outputId": "a71fea22-24ff-4a56-f14d-3a03c568af3e"
      },
      "source": [
        "# Slice kolom kedua\n",
        "A[:,1]"
      ],
      "execution_count": 27,
      "outputs": [
        {
          "output_type": "execute_result",
          "data": {
            "text/plain": [
              "array([2, 5, 8])"
            ]
          },
          "metadata": {
            "tags": []
          },
          "execution_count": 27
        }
      ]
    },
    {
      "cell_type": "markdown",
      "metadata": {
        "id": "W70gBX3OhQ5I"
      },
      "source": [
        "Kita dapat mengubah value dari sebuah array. \n"
      ]
    },
    {
      "cell_type": "code",
      "metadata": {
        "id": "9X9V3qrnhQ5I",
        "colab": {
          "base_uri": "https://localhost:8080/"
        },
        "outputId": "6c4ff177-ee36-4470-bc3a-de4983245cae"
      },
      "source": [
        "# Mengubah elemen kelima array a menjadi 500\n",
        "a[4] = 500\n",
        "a"
      ],
      "execution_count": 28,
      "outputs": [
        {
          "output_type": "execute_result",
          "data": {
            "text/plain": [
              "array([  1,   2,   3,   4, 500])"
            ]
          },
          "metadata": {
            "tags": []
          },
          "execution_count": 28
        }
      ]
    },
    {
      "cell_type": "code",
      "metadata": {
        "id": "Zh2EgBFvhQ5J",
        "colab": {
          "base_uri": "https://localhost:8080/"
        },
        "outputId": "5a5527d8-4eb8-4678-fa97-8066ec3a20a8"
      },
      "source": [
        "# Mengubah elemen baris pertama kolom pertama array multidimensi A menjadi 100\n",
        "A[0][0] = 100\n",
        "A"
      ],
      "execution_count": 29,
      "outputs": [
        {
          "output_type": "execute_result",
          "data": {
            "text/plain": [
              "array([[100,   2,   3],\n",
              "       [  4,   5,   6],\n",
              "       [  7,   8,   9]])"
            ]
          },
          "metadata": {
            "tags": []
          },
          "execution_count": 29
        }
      ]
    },
    {
      "cell_type": "markdown",
      "metadata": {
        "id": "IZuUtLb9hQ5J"
      },
      "source": [
        "Kita dapat menggunakan sebuah list untuk memilih indeks secara spesifik"
      ]
    },
    {
      "cell_type": "code",
      "metadata": {
        "id": "XKeq6vgQhQ5J"
      },
      "source": [
        "# Membuat list berisi indeks\n",
        "lst = [0,3,4]"
      ],
      "execution_count": 30,
      "outputs": []
    },
    {
      "cell_type": "code",
      "metadata": {
        "id": "jifpn9ZghQ5J",
        "colab": {
          "base_uri": "https://localhost:8080/"
        },
        "outputId": "517960c1-8d61-455a-b25e-8fba182453b4"
      },
      "source": [
        "# Menggunakan list untuk memilih elemen\n",
        "c = a[lst]\n",
        "c"
      ],
      "execution_count": 31,
      "outputs": [
        {
          "output_type": "execute_result",
          "data": {
            "text/plain": [
              "array([  1,   4, 500])"
            ]
          },
          "metadata": {
            "tags": []
          },
          "execution_count": 31
        }
      ]
    },
    {
      "cell_type": "markdown",
      "metadata": {
        "id": "QzoftEy4hQ5J"
      },
      "source": [
        "Selain itu, kita juga bisa meng-assign elemen pada indeks di list dengan value baru"
      ]
    },
    {
      "cell_type": "code",
      "metadata": {
        "id": "c0cscnQshQ5J",
        "colab": {
          "base_uri": "https://localhost:8080/"
        },
        "outputId": "4e2c3f6c-40d7-4d87-dcfe-23137ba131cc"
      },
      "source": [
        "# Assign value baru pada indeks di list\n",
        "a[lst] = 1234\n",
        "a"
      ],
      "execution_count": 32,
      "outputs": [
        {
          "output_type": "execute_result",
          "data": {
            "text/plain": [
              "array([1234,    2,    3, 1234, 1234])"
            ]
          },
          "metadata": {
            "tags": []
          },
          "execution_count": 32
        }
      ]
    },
    {
      "cell_type": "markdown",
      "metadata": {
        "id": "rG_9iZRYhQ5K"
      },
      "source": [
        "## Operasi pada Array"
      ]
    },
    {
      "cell_type": "code",
      "metadata": {
        "id": "ntMYIIKEhQ5K"
      },
      "source": [
        "x = np.array([10, 15, 20, 25, 30])\n",
        "y = np.array([30, 25, 20, 15, 10])"
      ],
      "execution_count": 33,
      "outputs": []
    },
    {
      "cell_type": "code",
      "metadata": {
        "id": "NukaYLlhhQ5K",
        "colab": {
          "base_uri": "https://localhost:8080/"
        },
        "outputId": "99fbfd39-a942-45d6-8e1e-597639bd574a"
      },
      "source": [
        "# Penjumlahan Array\n",
        "print(\"Penjumlahan Array : \", x + y)\n",
        "\n",
        "# Pengurangan Array\n",
        "print(\"Pengurangan Array : \", x - y)"
      ],
      "execution_count": 34,
      "outputs": [
        {
          "output_type": "stream",
          "text": [
            "Penjumlahan Array :  [40 40 40 40 40]\n",
            "Pengurangan Array :  [-20 -10   0  10  20]\n"
          ],
          "name": "stdout"
        }
      ]
    },
    {
      "cell_type": "code",
      "metadata": {
        "id": "Z2i96AjYhQ5K",
        "colab": {
          "base_uri": "https://localhost:8080/"
        },
        "outputId": "98dd6003-fa25-4a6f-d7a0-8d80c8604959"
      },
      "source": [
        "# Penjumlahan Array dengan  bilangan konstan\n",
        "print(\"Penjumlahan dengan sebuah bilangan : \", x + 3)\n",
        "\n",
        "# Perkalian Array dengan bilangan konstan\n",
        "print(\"Perkalian dengan sebuah bilangan : \", x * 2)"
      ],
      "execution_count": 35,
      "outputs": [
        {
          "output_type": "stream",
          "text": [
            "Penjumlahan dengan sebuah bilangan :  [13 18 23 28 33]\n",
            "Perkalian dengan sebuah bilangan :  [20 30 40 50 60]\n"
          ],
          "name": "stdout"
        }
      ]
    },
    {
      "cell_type": "code",
      "metadata": {
        "id": "lUChuQMnhQ5L",
        "colab": {
          "base_uri": "https://localhost:8080/"
        },
        "outputId": "a7b5ba3f-6aff-4610-d711-0714516f21a3"
      },
      "source": [
        "m = np.array([1,2])\n",
        "n = np.array([0,1])\n",
        "\n",
        "# Perkalian 2 buah array\n",
        "print (\"Perkalian array m dan n : \", m * n)\n",
        "\n",
        "# Dot product dari 2 buah array\n",
        "print (\"Dot product m dan n : \", np.dot(m,n))"
      ],
      "execution_count": 36,
      "outputs": [
        {
          "output_type": "stream",
          "text": [
            "Perkalian array m dan n :  [0 2]\n",
            "Dot product m dan n :  2\n"
          ],
          "name": "stdout"
        }
      ]
    },
    {
      "cell_type": "markdown",
      "metadata": {
        "id": "-fWTVHg8hQ5L"
      },
      "source": [
        "## Operasi pada Array Multidimensi / Matrix"
      ]
    },
    {
      "cell_type": "markdown",
      "metadata": {
        "id": "pOuKa2G8hQ5L"
      },
      "source": [
        "Operasi pada array juga berlaku pada array multidimensi / matrix"
      ]
    },
    {
      "cell_type": "code",
      "metadata": {
        "id": "mPLgp2jGhQ5L"
      },
      "source": [
        "X = np.array([[1,0],[0,1]])\n",
        "Y = np.array([[0,1],[1,0]])"
      ],
      "execution_count": 37,
      "outputs": []
    },
    {
      "cell_type": "code",
      "metadata": {
        "id": "lS2GY0IThQ5L",
        "colab": {
          "base_uri": "https://localhost:8080/"
        },
        "outputId": "cf8065c8-2742-4b5c-fd92-0203567256b0"
      },
      "source": [
        "# Penjumlahan matrix\n",
        "print(\"Penjumlahan\")\n",
        "print(X + Y)\n",
        "\n",
        "# Pengurangan Array\n",
        "print(\"Pengurangan\")\n",
        "print(X - Y)"
      ],
      "execution_count": 38,
      "outputs": [
        {
          "output_type": "stream",
          "text": [
            "Penjumlahan\n",
            "[[1 1]\n",
            " [1 1]]\n",
            "Pengurangan\n",
            "[[ 1 -1]\n",
            " [-1  1]]\n"
          ],
          "name": "stdout"
        }
      ]
    },
    {
      "cell_type": "code",
      "metadata": {
        "id": "dRdLstruhQ5M",
        "colab": {
          "base_uri": "https://localhost:8080/"
        },
        "outputId": "62fcd4df-af20-4737-d3ee-e35282426452"
      },
      "source": [
        "# Penjumlahan Matrix dengan  bilangan konstan\n",
        "print(\"Penjumlahan dengan sebuah bilangan : \")\n",
        "print(X + 2)\n",
        "\n",
        "# Perkalian Matrix dengan bilangan konstan\n",
        "print(\"Penjumlahan dengan sebuah bilangan : \")\n",
        "print(X * 2)"
      ],
      "execution_count": 39,
      "outputs": [
        {
          "output_type": "stream",
          "text": [
            "Penjumlahan dengan sebuah bilangan : \n",
            "[[3 2]\n",
            " [2 3]]\n",
            "Penjumlahan dengan sebuah bilangan : \n",
            "[[2 0]\n",
            " [0 2]]\n"
          ],
          "name": "stdout"
        }
      ]
    },
    {
      "cell_type": "code",
      "metadata": {
        "id": "B6ZXSo78hQ5M",
        "colab": {
          "base_uri": "https://localhost:8080/"
        },
        "outputId": "9c9f552f-dfed-44f6-b5d0-9b28b4dd936a"
      },
      "source": [
        "M = np.array([[1,2],[2,1]])\n",
        "N = np.array([[2,1],[1,2]])\n",
        "\n",
        "# Perkalian elemen dari 2 buah matrix\n",
        "print(\"Perkalian antar elemen M dan N : \")\n",
        "print (M * N)\n",
        "\n",
        "# Dot product dari 2 buah matrix (perkalian matrix)\n",
        "print(\"Perkalian Matrix M dan N : \")\n",
        "print (np.dot(M,N))"
      ],
      "execution_count": 40,
      "outputs": [
        {
          "output_type": "stream",
          "text": [
            "Perkalian antar elemen M dan N : \n",
            "[[2 2]\n",
            " [2 2]]\n",
            "Perkalian Matrix M dan N : \n",
            "[[4 5]\n",
            " [5 4]]\n"
          ],
          "name": "stdout"
        }
      ]
    },
    {
      "cell_type": "code",
      "metadata": {
        "id": "f94MGK78hQ5M",
        "colab": {
          "base_uri": "https://localhost:8080/"
        },
        "outputId": "3d7b9f0b-ed5c-451f-f3ee-5799863fb8ed"
      },
      "source": [
        "P = np.array([[1,2],[3,4]])\n",
        "\n",
        "# Matrix P\n",
        "print(P)\n",
        "\n",
        "# Membuat matrix transpose dari matrix P\n",
        "print(\"Transpose : \")\n",
        "print(np.transpose(P))\n",
        "\n",
        "# Membuat matrix invers dari matrix P\n",
        "print(\"Invers : \")\n",
        "print(np.linalg.inv(P))"
      ],
      "execution_count": 41,
      "outputs": [
        {
          "output_type": "stream",
          "text": [
            "[[1 2]\n",
            " [3 4]]\n",
            "Transpose : \n",
            "[[1 3]\n",
            " [2 4]]\n",
            "Invers : \n",
            "[[-2.   1. ]\n",
            " [ 1.5 -0.5]]\n"
          ],
          "name": "stdout"
        }
      ]
    },
    {
      "cell_type": "markdown",
      "metadata": {
        "id": "ZqmzvLtQhQ5M"
      },
      "source": [
        "## Operasi Statistik pada Array"
      ]
    },
    {
      "cell_type": "code",
      "metadata": {
        "id": "Zp0kp62zhQ5N",
        "colab": {
          "base_uri": "https://localhost:8080/"
        },
        "outputId": "5a697d2f-7eed-47ba-c004-fe7286dfb5b3"
      },
      "source": [
        "stat_arr = np.array([7, 7, 6, 6, 5, 7, 5, 9, 4, 2, 4, 2, 7, 7, 7, 3, 4, 4, 8, 7, 8, 6,\n",
        "       4, 1, 1])\n",
        "stat_arr"
      ],
      "execution_count": 42,
      "outputs": [
        {
          "output_type": "execute_result",
          "data": {
            "text/plain": [
              "array([7, 7, 6, 6, 5, 7, 5, 9, 4, 2, 4, 2, 7, 7, 7, 3, 4, 4, 8, 7, 8, 6,\n",
              "       4, 1, 1])"
            ]
          },
          "metadata": {
            "tags": []
          },
          "execution_count": 42
        }
      ]
    },
    {
      "cell_type": "code",
      "metadata": {
        "id": "e0NvY7DVhQ5N",
        "colab": {
          "base_uri": "https://localhost:8080/"
        },
        "outputId": "982694a5-4066-4474-85dc-dbed940e936e"
      },
      "source": [
        "# Nilai rata-rata dari sebuah array\n",
        "print(\"Nilai rata-rata : \", np.mean(stat_arr))\n",
        "\n",
        "# Nilai maksimal dari sebuah array\n",
        "print(\"Nilai maks : \", np.max(stat_arr))\n",
        "\n",
        "# Nilai unik dari sebuah array\n",
        "print(\"Nilai unik : \", np.unique(stat_arr))\n",
        "\n",
        "#Sort nilai pada array\n",
        "print(\"Sorted : \", np.sort(stat_arr))"
      ],
      "execution_count": 43,
      "outputs": [
        {
          "output_type": "stream",
          "text": [
            "Nilai rata-rata :  5.24\n",
            "Nilai maks :  9\n",
            "Nilai unik :  [1 2 3 4 5 6 7 8 9]\n",
            "Sorted :  [1 1 2 2 3 4 4 4 4 4 5 5 6 6 6 7 7 7 7 7 7 7 8 8 9]\n"
          ],
          "name": "stdout"
        }
      ]
    },
    {
      "cell_type": "markdown",
      "metadata": {
        "id": "FTSI8JpqhQ5N"
      },
      "source": [
        "# Pertanyaan Lab 2"
      ]
    },
    {
      "cell_type": "markdown",
      "metadata": {
        "id": "VQqvu9_dhQ5N"
      },
      "source": [
        "Jawab setiap pertanyaan pada _cell_ di bawah _cell_ pertanyaan. Jawaban boleh lebih dari 1 _cell_ dan juga kombinasi antara _cell_ kode atau _markdown_ jika memang diperlukan."
      ]
    },
    {
      "cell_type": "markdown",
      "metadata": {
        "id": "zcAFsXC_hQ5O"
      },
      "source": [
        "1. Buatlah sebuah matriks nol berukuran 3x3! Kemudian jumlahkan setiap elemennya dengan angka 1!"
      ]
    },
    {
      "cell_type": "code",
      "metadata": {
        "id": "1F-ZZVSohQ5O",
        "colab": {
          "base_uri": "https://localhost:8080/"
        },
        "outputId": "cbc65ac9-0afa-461f-ae85-fce657562825"
      },
      "source": [
        "# Jawaban\n",
        "mat_ones = np.ones([3,3])\n",
        "print(f'Matriks 3x3 dengan nilai 1 di setiap elemen:\\n{mat_ones}')\n",
        "new_mat = mat_ones + 1\n",
        "print(f\"Setiap elemen matrix diatas ditambah 1:\\n{new_mat}\")"
      ],
      "execution_count": 63,
      "outputs": [
        {
          "output_type": "stream",
          "text": [
            "Matriks 3x3 dengan nilai 1 di setiap elemen:\n",
            "[[1. 1. 1.]\n",
            " [1. 1. 1.]\n",
            " [1. 1. 1.]]\n",
            "Setiap elemen matrix diatas ditambah 1:\n",
            "[[2. 2. 2.]\n",
            " [2. 2. 2.]\n",
            " [2. 2. 2.]]\n"
          ],
          "name": "stdout"
        }
      ]
    },
    {
      "cell_type": "markdown",
      "metadata": {
        "id": "s-TSpcjJhQ5O"
      },
      "source": [
        "<hr>"
      ]
    },
    {
      "cell_type": "code",
      "metadata": {
        "id": "KJAFjXfNhQ5O",
        "colab": {
          "base_uri": "https://localhost:8080/"
        },
        "outputId": "b8014663-a022-4c30-8717-d8307278b98a"
      },
      "source": [
        "arr_2 = np.array([1,2,3,4,5,6,7,8.5])\n",
        "arr_2.dtype"
      ],
      "execution_count": 102,
      "outputs": [
        {
          "output_type": "execute_result",
          "data": {
            "text/plain": [
              "dtype('float64')"
            ]
          },
          "metadata": {
            "tags": []
          },
          "execution_count": 102
        }
      ]
    },
    {
      "cell_type": "markdown",
      "metadata": {
        "id": "6j3VSlb9hQ5O"
      },
      "source": [
        "2. Jalankan _cell_ di atas! Mengapa tipe data yang didapatkan dari <code>arr_2.dtype</code> bertipe float padahal ada elemen yang bertipe integer juga? Jelaskan secara singkat!"
      ]
    },
    {
      "cell_type": "code",
      "metadata": {
        "id": "chxrjWGxhQ5O"
      },
      "source": [
        "# Jawaban"
      ],
      "execution_count": 101,
      "outputs": []
    },
    {
      "cell_type": "markdown",
      "metadata": {
        "id": "xVbSCmHRxi74"
      },
      "source": [
        "Karena numpy mencari generalisasi tipe dari array tersebut dan mengubahnya setiap elemen ke tipe generalisasi yang ditemukan. tipe float dapat mencakup data integer dan data float tanpa kehilangan presisi, sedangkan jika tipe integer yang diplihi sebagai generaliasi, maka elemen dengan tipe data float akan kehilangan presisi dari datanya."
      ]
    },
    {
      "cell_type": "markdown",
      "metadata": {
        "id": "0ZkBF3dChQ5P"
      },
      "source": [
        "<hr>"
      ]
    },
    {
      "cell_type": "markdown",
      "metadata": {
        "id": "v4E6cbfJhQ5P"
      },
      "source": [
        "3. Terdapat 2 buah array v dan w seperti di bawah. Lakukan operasi v + w __(tanpa diubah menjadi numpy array terlebih dahulu)__!\n"
      ]
    },
    {
      "cell_type": "code",
      "metadata": {
        "id": "VJ9nptjGhQ5P"
      },
      "source": [
        "v = [1,2,3,4,5]\n",
        "w = [6,7,8,9,10]"
      ],
      "execution_count": 47,
      "outputs": []
    },
    {
      "cell_type": "code",
      "metadata": {
        "id": "yuMm4T0JhQ5P",
        "colab": {
          "base_uri": "https://localhost:8080/"
        },
        "outputId": "625eb483-473b-4676-ae27-8e627d6807fd"
      },
      "source": [
        "# Jawaban\n",
        "v + w"
      ],
      "execution_count": 64,
      "outputs": [
        {
          "output_type": "execute_result",
          "data": {
            "text/plain": [
              "[1, 2, 3, 4, 5, 6, 7, 8, 9, 10]"
            ]
          },
          "metadata": {
            "tags": []
          },
          "execution_count": 64
        }
      ]
    },
    {
      "cell_type": "markdown",
      "metadata": {
        "id": "KPgv8tV-hQ5P"
      },
      "source": [
        "Ubahlah array v dan w menjadi numpy array dan lakukan operasi penjumlahan (np_v + np_w)!"
      ]
    },
    {
      "cell_type": "code",
      "metadata": {
        "id": "CcJefpbuhQ5R",
        "colab": {
          "base_uri": "https://localhost:8080/"
        },
        "outputId": "11088c07-6838-40ed-9a26-24e810f772e2"
      },
      "source": [
        "# Jawaban\n",
        "np.array(v) + np.array(w)"
      ],
      "execution_count": 65,
      "outputs": [
        {
          "output_type": "execute_result",
          "data": {
            "text/plain": [
              "array([ 7,  9, 11, 13, 15])"
            ]
          },
          "metadata": {
            "tags": []
          },
          "execution_count": 65
        }
      ]
    },
    {
      "cell_type": "markdown",
      "metadata": {
        "id": "OvmaUWKPhQ5R"
      },
      "source": [
        "Apakah perbedaan kedua operasi di atas? (Sebelum dan sesudah diubah menjadi numpy array)"
      ]
    },
    {
      "cell_type": "code",
      "metadata": {
        "id": "ZTbYJo1-hQ5R"
      },
      "source": [
        "# Jawaban\n",
        "Operasi Pertama akan melakukan konkantenasi List W ke List V, sedangkan operasi terkahir \n",
        "menambahkan elemen matriks V dan W sesuai dengan letak baris dan kolom yang sama."
      ],
      "execution_count": 50,
      "outputs": []
    },
    {
      "cell_type": "markdown",
      "metadata": {
        "id": "qAzSvrSKhQ5R"
      },
      "source": [
        "<hr>"
      ]
    },
    {
      "cell_type": "code",
      "metadata": {
        "id": "mA80gKNyhQ5S"
      },
      "source": [
        "V = np.array([[2,3,2],[1,2,1],[3,2,1]])\n",
        "W = np.array([[1,1,2],[2,3,1],[2,2,2]])"
      ],
      "execution_count": 51,
      "outputs": []
    },
    {
      "cell_type": "markdown",
      "metadata": {
        "id": "K1yYNYlrhQ5S"
      },
      "source": [
        "4. Terdapat matrix V dan W seperti pada _cell_ di atas, lakukan operasi perkalian matrix V dan W! Kemudian buatlah sebuah matrix baru yang isinya akar dari setiap elemen dari hasil perkalian matrix tersebut! Tampilkan matrix transpose dari matrix akar tersebut! (Hint : Anda dapat menggunakan fungsi <code>sqrt</code> dari NumPy)"
      ]
    },
    {
      "cell_type": "code",
      "metadata": {
        "id": "dmPBTY5uhQ5S",
        "colab": {
          "base_uri": "https://localhost:8080/"
        },
        "outputId": "347691cc-2139-4195-8421-ddfc919a048b"
      },
      "source": [
        "#Jawaban\n",
        "product_VW = np.dot(V, W)\n",
        "print(f\"Hasil kali matriks VW:\\n{product_VW}\\n\")\n",
        "\n",
        "root_product = np.sqrt(product_VW)\n",
        "print(f\"Akar tiap elemen dari perkalian matriks:\\n{root_product}\\n\")\n",
        "\n",
        "trsp_root = np.transpose(root_product)\n",
        "print(f\"Transpose matrix akar sebelumnya:\\n{trsp_root}\")"
      ],
      "execution_count": 72,
      "outputs": [
        {
          "output_type": "stream",
          "text": [
            "Hasil kali matriks VW:\n",
            "[[12 15 11]\n",
            " [ 7  9  6]\n",
            " [ 9 11 10]]\n",
            "\n",
            "Akar tiap elemen dari perkalian matriks:\n",
            "[[3.46410162 3.87298335 3.31662479]\n",
            " [2.64575131 3.         2.44948974]\n",
            " [3.         3.31662479 3.16227766]]\n",
            "\n",
            "Transpose matrix akar sebelumnya:\n",
            "[[3.46410162 2.64575131 3.        ]\n",
            " [3.87298335 3.         3.31662479]\n",
            " [3.31662479 2.44948974 3.16227766]]\n"
          ],
          "name": "stdout"
        }
      ]
    },
    {
      "cell_type": "markdown",
      "metadata": {
        "id": "VPfW2fW0hQ5T"
      },
      "source": [
        "<hr>"
      ]
    },
    {
      "cell_type": "code",
      "metadata": {
        "id": "JVHm-q4ZhQ5T"
      },
      "source": [
        "arr_5 = np.array([89, 33, 13, 13, 11, 49, 96,  1, 79, 76, 88, 16, 78, 14, 26, 26, 20,\n",
        "        9, 51, 88, 19, 14,  7, 51, 45, 76, 41, 11, 34, 36, 77,  8, 55,  4,\n",
        "        8,  1, 47, 27, 67,  7, 45, 96, 69, 21, 37, 32, 41, 43, 49, 53])"
      ],
      "execution_count": 53,
      "outputs": []
    },
    {
      "cell_type": "markdown",
      "metadata": {
        "id": "SvhC8uozhQ5T"
      },
      "source": [
        "5. Terdapat array seperti _cell_ di atas, cari dan tampilkan rata-rata, nilai maksimum, minimum, median, standar deviasi, variance, dan ukuran dari array tersebut!"
      ]
    },
    {
      "cell_type": "code",
      "metadata": {
        "id": "SqkCzofGhQ5U",
        "colab": {
          "base_uri": "https://localhost:8080/"
        },
        "outputId": "74741f6b-5ade-4cde-adae-38a3f133de46"
      },
      "source": [
        "#Jawaban\n",
        "print(f\"Rata-rata: {arr_5.mean()}\")\n",
        "print(f\"Nilai Maksimum: {arr_5.max()}\")\n",
        "print(f\"Nilai Minimum: {arr_5.min()}\")\n",
        "print(f\"Median: {np.median(arr_5)}\")\n",
        "print(f\"Standar Deviasi: {np.std(arr_5)}\")\n",
        "print(f\"Ukuran array: {arr_5.size}\")"
      ],
      "execution_count": 88,
      "outputs": [
        {
          "output_type": "stream",
          "text": [
            "Rata-rata: 39.94\n",
            "Nilai Maksimum: 96\n",
            "Nilai Minimum: 1\n",
            "Median: 36.5\n",
            "Standar Deviasi: 28.005292356981386\n",
            "Ukuran array: 50\n"
          ],
          "name": "stdout"
        }
      ]
    },
    {
      "cell_type": "markdown",
      "metadata": {
        "id": "9Jwxtlg_hQ5U"
      },
      "source": [
        "<hr>"
      ]
    },
    {
      "cell_type": "code",
      "metadata": {
        "id": "EqzFmdcdhQ5U"
      },
      "source": [
        ""
      ],
      "execution_count": 54,
      "outputs": []
    }
  ]
}