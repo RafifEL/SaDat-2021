{
  "nbformat": 4,
  "nbformat_minor": 0,
  "metadata": {
    "kernelspec": {
      "display_name": "Python 3",
      "language": "python",
      "name": "python3"
    },
    "language_info": {
      "codemirror_mode": {
        "name": "ipython",
        "version": 3
      },
      "file_extension": ".py",
      "mimetype": "text/x-python",
      "name": "python",
      "nbconvert_exporter": "python",
      "pygments_lexer": "ipython3",
      "version": "3.7.3"
    },
    "colab": {
      "name": "LI_Lab3_1806205722_MuhammadRafifElfazri.ipynb",
      "provenance": [],
      "collapsed_sections": [
        "j9pb-VsmOVFs"
      ]
    }
  },
  "cells": [
    {
      "cell_type": "markdown",
      "metadata": {
        "id": "TKTOBclz75se"
      },
      "source": [
        "<center><h1>Lab 3</h1></center>\r\n",
        "\r\n",
        "<center><h2>Sains Data Genap 2020/2021</h2></center>\r\n",
        "\r\n",
        "<center><h2>Deadline: 14 Maret 2021, 23.55 WIB</h2></center>"
      ]
    },
    {
      "cell_type": "markdown",
      "metadata": {
        "id": "HloCaoZB8Hdr"
      },
      "source": [
        "### Petunjuk Pengerjaan\r\n",
        "\r\n",
        "1.   Lengkapi data **NPM**, **KOLABORATOR** (jika ada), dan **REFERENSI** (jika ada), pada cell di bawah Petunjuk Umum.\r\n",
        "3.   Jalankan kode yang telah disediakan dan perhatikan dengan saksama apa yang potongan kode tersebut lakukan beserta dengan keluarannya. Jawablah **pertanyaan pada bagian yang diberikan tanda \"SOAL Y\"** sesuai dengan perintah yang diberikan.\r\n",
        "4.   Dokumen Jupyter Notebook yang telah dijawab dikumpulkan dengan format penamaan **KodeAsdos_Lab3_NPM_Nama.ipynb**. Contoh: LI_Lab3_1706979341_Lulu Ilmaknun Qurotaini.ipynb\r\n",
        "5.    Kumpulkan pada submisi yang telah disediakan di scele sebelum **14 Maret 2021, 23.55 WIB**."
      ]
    },
    {
      "cell_type": "code",
      "metadata": {
        "id": "oBCtM-bZ8a97"
      },
      "source": [
        "#Input NPM\r\n",
        "NPM = \"1806205722\"\r\n",
        "\r\n",
        "#Input NPM teman yang berkolaborasi dengan Anda dalam mengerjakan tugas ini (jika ada)\r\n",
        "KOLABORATOR = []\r\n",
        "\r\n",
        "#Input link referensi atau sumber lain yang Anda gunakan dalam menyelesaikan tugas ini (jika ada)\r\n",
        "REFERENSI = []"
      ],
      "execution_count": 517,
      "outputs": []
    },
    {
      "cell_type": "markdown",
      "metadata": {
        "id": "b-rPY0F5Vevh"
      },
      "source": [
        "### **Preprocessing pada Titanic Dataset**\r\n",
        "\r\n",
        "Sumber: ToT Microcredential AI-Data Science Dirjen Dikti, dengan beberapa perubahan\r\n"
      ]
    },
    {
      "cell_type": "markdown",
      "metadata": {
        "id": "ThEcWldxOVFe"
      },
      "source": [
        "# 1. Import library dan data"
      ]
    },
    {
      "cell_type": "markdown",
      "metadata": {
        "id": "925zht6_VaE2"
      },
      "source": [
        ""
      ]
    },
    {
      "cell_type": "code",
      "metadata": {
        "id": "o0LtLOPfOVFl"
      },
      "source": [
        "import pandas as pd\n",
        "import numpy as np\n",
        "\n",
        "import matplotlib.pyplot as plt\n",
        "import seaborn as sns\n",
        "import scipy.stats as scp\n",
        "\n",
        "from sklearn.preprocessing import LabelEncoder, Normalizer, StandardScaler"
      ],
      "execution_count": 518,
      "outputs": []
    },
    {
      "cell_type": "code",
      "metadata": {
        "id": "MXQi9CABqZtK"
      },
      "source": [
        "# !wget -q  https://raw.githubusercontent.com/RafifEL/SaDat-2021/master/Lab%203/data_titanic3.csv"
      ],
      "execution_count": 519,
      "outputs": []
    },
    {
      "cell_type": "code",
      "metadata": {
        "id": "jJsIcJGWOVFo"
      },
      "source": [
        "titanic3 = pd.read_csv('data_titanic3.csv')"
      ],
      "execution_count": 520,
      "outputs": []
    },
    {
      "cell_type": "code",
      "metadata": {
        "id": "fHeTQl_1OVFp",
        "colab": {
          "base_uri": "https://localhost:8080/"
        },
        "outputId": "171ff780-20d9-4715-807d-47176da83532"
      },
      "source": [
        "# Mencetak dimensi data\r\n",
        "print(\"data: \", titanic3.shape)"
      ],
      "execution_count": 521,
      "outputs": [
        {
          "output_type": "stream",
          "text": [
            "data:  (1309, 14)\n"
          ],
          "name": "stdout"
        }
      ]
    },
    {
      "cell_type": "code",
      "metadata": {
        "id": "TLc6noNLOVFr",
        "colab": {
          "base_uri": "https://localhost:8080/"
        },
        "outputId": "cc9993a5-6657-405e-f096-65092fa36925"
      },
      "source": [
        "# Membaca kolom-kolom pada DataFrame\r\n",
        "titanic3.info()"
      ],
      "execution_count": 522,
      "outputs": [
        {
          "output_type": "stream",
          "text": [
            "<class 'pandas.core.frame.DataFrame'>\n",
            "RangeIndex: 1309 entries, 0 to 1308\n",
            "Data columns (total 14 columns):\n",
            " #   Column     Non-Null Count  Dtype  \n",
            "---  ------     --------------  -----  \n",
            " 0   pclass     1309 non-null   int64  \n",
            " 1   survived   1309 non-null   int64  \n",
            " 2   name       1309 non-null   object \n",
            " 3   sex        1309 non-null   object \n",
            " 4   age        1046 non-null   float64\n",
            " 5   sibsp      1309 non-null   int64  \n",
            " 6   parch      1309 non-null   int64  \n",
            " 7   ticket     1309 non-null   object \n",
            " 8   fare       1308 non-null   float64\n",
            " 9   cabin      295 non-null    object \n",
            " 10  embarked   1307 non-null   object \n",
            " 11  boat       486 non-null    object \n",
            " 12  body       121 non-null    float64\n",
            " 13  home.dest  745 non-null    object \n",
            "dtypes: float64(3), int64(4), object(7)\n",
            "memory usage: 143.3+ KB\n"
          ],
          "name": "stdout"
        }
      ]
    },
    {
      "cell_type": "markdown",
      "metadata": {
        "id": "j9pb-VsmOVFs"
      },
      "source": [
        "## **VARIABLE DESCRIPTIONS:**\n",
        "\n",
        "`pclass`:          Passenger Class\n",
        "                (1 = 1st; 2 = 2nd; 3 = 3rd)\n",
        "\n",
        "`survival`:        Survival\n",
        "                (0 = No; 1 = Yes)\n",
        "\n",
        "`name`:           Name\n",
        "\n",
        "`sex`:             Sex\n",
        "\n",
        "`age`:             Age\n",
        "\n",
        "`sibsp`:           Number of Siblings/Spouses Aboard\n",
        "\n",
        "`parch`:           Number of Parents/Children Aboard\n",
        "\n",
        "`ticket`:          Ticket Number\n",
        "\n",
        "`fare`:            Passenger Fare\n",
        "\n",
        "`cabin`:           Cabin\n",
        "\n",
        "`embarked`:        Port of Embarkation\n",
        "                (C = Cherbourg; Q = Queenstown; S = Southampton)\n",
        "\n",
        "`boat`:            Lifeboat\n",
        "\n",
        "`body`:            Body Identification Number\n",
        "\n",
        "`home.dest`:       Home/Destination\n",
        "\n",
        "**SPECIAL NOTES:**\n",
        "\n",
        "`pclass` is a proxy for socio-economic status (SES)\n",
        " \n",
        " 1st ~ Upper; 2nd ~ Middle; 3rd ~ Lower"
      ]
    },
    {
      "cell_type": "code",
      "metadata": {
        "id": "nJaxL3fNOVFu",
        "colab": {
          "base_uri": "https://localhost:8080/",
          "height": 0
        },
        "outputId": "606f409d-443c-4555-b96d-7535bd07f8a5"
      },
      "source": [
        "titanic3.head()"
      ],
      "execution_count": 523,
      "outputs": [
        {
          "output_type": "execute_result",
          "data": {
            "text/html": [
              "<div>\n",
              "<style scoped>\n",
              "    .dataframe tbody tr th:only-of-type {\n",
              "        vertical-align: middle;\n",
              "    }\n",
              "\n",
              "    .dataframe tbody tr th {\n",
              "        vertical-align: top;\n",
              "    }\n",
              "\n",
              "    .dataframe thead th {\n",
              "        text-align: right;\n",
              "    }\n",
              "</style>\n",
              "<table border=\"1\" class=\"dataframe\">\n",
              "  <thead>\n",
              "    <tr style=\"text-align: right;\">\n",
              "      <th></th>\n",
              "      <th>pclass</th>\n",
              "      <th>survived</th>\n",
              "      <th>name</th>\n",
              "      <th>sex</th>\n",
              "      <th>age</th>\n",
              "      <th>sibsp</th>\n",
              "      <th>parch</th>\n",
              "      <th>ticket</th>\n",
              "      <th>fare</th>\n",
              "      <th>cabin</th>\n",
              "      <th>embarked</th>\n",
              "      <th>boat</th>\n",
              "      <th>body</th>\n",
              "      <th>home.dest</th>\n",
              "    </tr>\n",
              "  </thead>\n",
              "  <tbody>\n",
              "    <tr>\n",
              "      <th>0</th>\n",
              "      <td>1</td>\n",
              "      <td>1</td>\n",
              "      <td>Allen, Miss. Elisabeth Walton</td>\n",
              "      <td>female</td>\n",
              "      <td>29.00</td>\n",
              "      <td>0</td>\n",
              "      <td>0</td>\n",
              "      <td>24160</td>\n",
              "      <td>211.3375</td>\n",
              "      <td>B5</td>\n",
              "      <td>S</td>\n",
              "      <td>2</td>\n",
              "      <td>NaN</td>\n",
              "      <td>St Louis, MO</td>\n",
              "    </tr>\n",
              "    <tr>\n",
              "      <th>1</th>\n",
              "      <td>1</td>\n",
              "      <td>1</td>\n",
              "      <td>Allison, Master. Hudson Trevor</td>\n",
              "      <td>male</td>\n",
              "      <td>0.92</td>\n",
              "      <td>1</td>\n",
              "      <td>2</td>\n",
              "      <td>113781</td>\n",
              "      <td>151.5500</td>\n",
              "      <td>C22 C26</td>\n",
              "      <td>S</td>\n",
              "      <td>11</td>\n",
              "      <td>NaN</td>\n",
              "      <td>Montreal, PQ / Chesterville, ON</td>\n",
              "    </tr>\n",
              "    <tr>\n",
              "      <th>2</th>\n",
              "      <td>1</td>\n",
              "      <td>0</td>\n",
              "      <td>Allison, Miss. Helen Loraine</td>\n",
              "      <td>female</td>\n",
              "      <td>2.00</td>\n",
              "      <td>1</td>\n",
              "      <td>2</td>\n",
              "      <td>113781</td>\n",
              "      <td>151.5500</td>\n",
              "      <td>C22 C26</td>\n",
              "      <td>S</td>\n",
              "      <td>NaN</td>\n",
              "      <td>NaN</td>\n",
              "      <td>Montreal, PQ / Chesterville, ON</td>\n",
              "    </tr>\n",
              "    <tr>\n",
              "      <th>3</th>\n",
              "      <td>1</td>\n",
              "      <td>0</td>\n",
              "      <td>Allison, Mr. Hudson Joshua Creighton</td>\n",
              "      <td>male</td>\n",
              "      <td>30.00</td>\n",
              "      <td>1</td>\n",
              "      <td>2</td>\n",
              "      <td>113781</td>\n",
              "      <td>151.5500</td>\n",
              "      <td>C22 C26</td>\n",
              "      <td>S</td>\n",
              "      <td>NaN</td>\n",
              "      <td>135.0</td>\n",
              "      <td>Montreal, PQ / Chesterville, ON</td>\n",
              "    </tr>\n",
              "    <tr>\n",
              "      <th>4</th>\n",
              "      <td>1</td>\n",
              "      <td>0</td>\n",
              "      <td>Allison, Mrs. Hudson J C (Bessie Waldo Daniels)</td>\n",
              "      <td>female</td>\n",
              "      <td>25.00</td>\n",
              "      <td>1</td>\n",
              "      <td>2</td>\n",
              "      <td>113781</td>\n",
              "      <td>151.5500</td>\n",
              "      <td>C22 C26</td>\n",
              "      <td>S</td>\n",
              "      <td>NaN</td>\n",
              "      <td>NaN</td>\n",
              "      <td>Montreal, PQ / Chesterville, ON</td>\n",
              "    </tr>\n",
              "  </tbody>\n",
              "</table>\n",
              "</div>"
            ],
            "text/plain": [
              "   pclass  survived  ...   body                        home.dest\n",
              "0       1         1  ...    NaN                     St Louis, MO\n",
              "1       1         1  ...    NaN  Montreal, PQ / Chesterville, ON\n",
              "2       1         0  ...    NaN  Montreal, PQ / Chesterville, ON\n",
              "3       1         0  ...  135.0  Montreal, PQ / Chesterville, ON\n",
              "4       1         0  ...    NaN  Montreal, PQ / Chesterville, ON\n",
              "\n",
              "[5 rows x 14 columns]"
            ]
          },
          "metadata": {
            "tags": []
          },
          "execution_count": 523
        }
      ]
    },
    {
      "cell_type": "markdown",
      "metadata": {
        "id": "svLumBnvOVFv"
      },
      "source": [
        "# 2. Basic summary statistic"
      ]
    },
    {
      "cell_type": "code",
      "metadata": {
        "id": "RdUnkeRvOVFv",
        "colab": {
          "base_uri": "https://localhost:8080/",
          "height": 297
        },
        "outputId": "b9d8fd21-50e9-4a75-9367-c3510a88e618"
      },
      "source": [
        "titanic3.describe()"
      ],
      "execution_count": 524,
      "outputs": [
        {
          "output_type": "execute_result",
          "data": {
            "text/html": [
              "<div>\n",
              "<style scoped>\n",
              "    .dataframe tbody tr th:only-of-type {\n",
              "        vertical-align: middle;\n",
              "    }\n",
              "\n",
              "    .dataframe tbody tr th {\n",
              "        vertical-align: top;\n",
              "    }\n",
              "\n",
              "    .dataframe thead th {\n",
              "        text-align: right;\n",
              "    }\n",
              "</style>\n",
              "<table border=\"1\" class=\"dataframe\">\n",
              "  <thead>\n",
              "    <tr style=\"text-align: right;\">\n",
              "      <th></th>\n",
              "      <th>pclass</th>\n",
              "      <th>survived</th>\n",
              "      <th>age</th>\n",
              "      <th>sibsp</th>\n",
              "      <th>parch</th>\n",
              "      <th>fare</th>\n",
              "      <th>body</th>\n",
              "    </tr>\n",
              "  </thead>\n",
              "  <tbody>\n",
              "    <tr>\n",
              "      <th>count</th>\n",
              "      <td>1309.000000</td>\n",
              "      <td>1309.000000</td>\n",
              "      <td>1046.000000</td>\n",
              "      <td>1309.000000</td>\n",
              "      <td>1309.000000</td>\n",
              "      <td>1308.000000</td>\n",
              "      <td>121.000000</td>\n",
              "    </tr>\n",
              "    <tr>\n",
              "      <th>mean</th>\n",
              "      <td>2.294882</td>\n",
              "      <td>0.381971</td>\n",
              "      <td>29.881138</td>\n",
              "      <td>0.498854</td>\n",
              "      <td>0.385027</td>\n",
              "      <td>33.295479</td>\n",
              "      <td>160.809917</td>\n",
              "    </tr>\n",
              "    <tr>\n",
              "      <th>std</th>\n",
              "      <td>0.837836</td>\n",
              "      <td>0.486055</td>\n",
              "      <td>14.413493</td>\n",
              "      <td>1.041658</td>\n",
              "      <td>0.865560</td>\n",
              "      <td>51.758668</td>\n",
              "      <td>97.696922</td>\n",
              "    </tr>\n",
              "    <tr>\n",
              "      <th>min</th>\n",
              "      <td>1.000000</td>\n",
              "      <td>0.000000</td>\n",
              "      <td>0.170000</td>\n",
              "      <td>0.000000</td>\n",
              "      <td>0.000000</td>\n",
              "      <td>0.000000</td>\n",
              "      <td>1.000000</td>\n",
              "    </tr>\n",
              "    <tr>\n",
              "      <th>25%</th>\n",
              "      <td>2.000000</td>\n",
              "      <td>0.000000</td>\n",
              "      <td>21.000000</td>\n",
              "      <td>0.000000</td>\n",
              "      <td>0.000000</td>\n",
              "      <td>7.895800</td>\n",
              "      <td>72.000000</td>\n",
              "    </tr>\n",
              "    <tr>\n",
              "      <th>50%</th>\n",
              "      <td>3.000000</td>\n",
              "      <td>0.000000</td>\n",
              "      <td>28.000000</td>\n",
              "      <td>0.000000</td>\n",
              "      <td>0.000000</td>\n",
              "      <td>14.454200</td>\n",
              "      <td>155.000000</td>\n",
              "    </tr>\n",
              "    <tr>\n",
              "      <th>75%</th>\n",
              "      <td>3.000000</td>\n",
              "      <td>1.000000</td>\n",
              "      <td>39.000000</td>\n",
              "      <td>1.000000</td>\n",
              "      <td>0.000000</td>\n",
              "      <td>31.275000</td>\n",
              "      <td>256.000000</td>\n",
              "    </tr>\n",
              "    <tr>\n",
              "      <th>max</th>\n",
              "      <td>3.000000</td>\n",
              "      <td>1.000000</td>\n",
              "      <td>80.000000</td>\n",
              "      <td>8.000000</td>\n",
              "      <td>9.000000</td>\n",
              "      <td>512.329200</td>\n",
              "      <td>328.000000</td>\n",
              "    </tr>\n",
              "  </tbody>\n",
              "</table>\n",
              "</div>"
            ],
            "text/plain": [
              "            pclass     survived  ...         fare        body\n",
              "count  1309.000000  1309.000000  ...  1308.000000  121.000000\n",
              "mean      2.294882     0.381971  ...    33.295479  160.809917\n",
              "std       0.837836     0.486055  ...    51.758668   97.696922\n",
              "min       1.000000     0.000000  ...     0.000000    1.000000\n",
              "25%       2.000000     0.000000  ...     7.895800   72.000000\n",
              "50%       3.000000     0.000000  ...    14.454200  155.000000\n",
              "75%       3.000000     1.000000  ...    31.275000  256.000000\n",
              "max       3.000000     1.000000  ...   512.329200  328.000000\n",
              "\n",
              "[8 rows x 7 columns]"
            ]
          },
          "metadata": {
            "tags": []
          },
          "execution_count": 524
        }
      ]
    },
    {
      "cell_type": "markdown",
      "metadata": {
        "id": "zOVsKq4-XXR2"
      },
      "source": [
        "Dengan method \"describe\" kita mendapatkan basic statistics untuk atribut numerik. \r\n",
        "\r\n",
        "Apa yang bisa diamati?\r\n",
        "Pada atribut \"fare\", standard deviasi tampak tinggi, jauh di atas mean, perlu dilihat lebih jauh distribusi datanya."
      ]
    },
    {
      "cell_type": "code",
      "metadata": {
        "colab": {
          "base_uri": "https://localhost:8080/",
          "height": 173
        },
        "id": "rn2CQNiqgK4A",
        "outputId": "cd7ed818-9d76-48a9-f8d7-8f7ac621d541"
      },
      "source": [
        "# Menampilkan summary dari nonnumeric atribute\r\n",
        "display(titanic3.describe(include=np.object))\r\n",
        "# \"unique\" menunjukkan ada berapa variasi nilai dalam suatu atribut. \r\n",
        "# Jika \"unique\" bernilai 1, atribut tersebut dapat dihapus, karena untuk semua baris nilainya sama\""
      ],
      "execution_count": 525,
      "outputs": [
        {
          "output_type": "display_data",
          "data": {
            "text/html": [
              "<div>\n",
              "<style scoped>\n",
              "    .dataframe tbody tr th:only-of-type {\n",
              "        vertical-align: middle;\n",
              "    }\n",
              "\n",
              "    .dataframe tbody tr th {\n",
              "        vertical-align: top;\n",
              "    }\n",
              "\n",
              "    .dataframe thead th {\n",
              "        text-align: right;\n",
              "    }\n",
              "</style>\n",
              "<table border=\"1\" class=\"dataframe\">\n",
              "  <thead>\n",
              "    <tr style=\"text-align: right;\">\n",
              "      <th></th>\n",
              "      <th>name</th>\n",
              "      <th>sex</th>\n",
              "      <th>ticket</th>\n",
              "      <th>cabin</th>\n",
              "      <th>embarked</th>\n",
              "      <th>boat</th>\n",
              "      <th>home.dest</th>\n",
              "    </tr>\n",
              "  </thead>\n",
              "  <tbody>\n",
              "    <tr>\n",
              "      <th>count</th>\n",
              "      <td>1309</td>\n",
              "      <td>1309</td>\n",
              "      <td>1309</td>\n",
              "      <td>295</td>\n",
              "      <td>1307</td>\n",
              "      <td>486</td>\n",
              "      <td>745</td>\n",
              "    </tr>\n",
              "    <tr>\n",
              "      <th>unique</th>\n",
              "      <td>1307</td>\n",
              "      <td>2</td>\n",
              "      <td>929</td>\n",
              "      <td>186</td>\n",
              "      <td>3</td>\n",
              "      <td>27</td>\n",
              "      <td>369</td>\n",
              "    </tr>\n",
              "    <tr>\n",
              "      <th>top</th>\n",
              "      <td>Connolly, Miss. Kate</td>\n",
              "      <td>male</td>\n",
              "      <td>CA. 2343</td>\n",
              "      <td>C23 C25 C27</td>\n",
              "      <td>S</td>\n",
              "      <td>13</td>\n",
              "      <td>New York, NY</td>\n",
              "    </tr>\n",
              "    <tr>\n",
              "      <th>freq</th>\n",
              "      <td>2</td>\n",
              "      <td>843</td>\n",
              "      <td>11</td>\n",
              "      <td>6</td>\n",
              "      <td>914</td>\n",
              "      <td>39</td>\n",
              "      <td>64</td>\n",
              "    </tr>\n",
              "  </tbody>\n",
              "</table>\n",
              "</div>"
            ],
            "text/plain": [
              "                        name   sex    ticket  ... embarked boat     home.dest\n",
              "count                   1309  1309      1309  ...     1307  486           745\n",
              "unique                  1307     2       929  ...        3   27           369\n",
              "top     Connolly, Miss. Kate  male  CA. 2343  ...        S   13  New York, NY\n",
              "freq                       2   843        11  ...      914   39            64\n",
              "\n",
              "[4 rows x 7 columns]"
            ]
          },
          "metadata": {
            "tags": []
          }
        }
      ]
    },
    {
      "cell_type": "code",
      "metadata": {
        "id": "kKVHi9L-OVFw"
      },
      "source": [
        "# Selanjutnya, akan dibuat plot beberapa kolom untuk melihat distribusi frekuensinya\n",
        "def countplot(column):\n",
        "    return sns.countplot(x= column, data= titanic3)"
      ],
      "execution_count": 526,
      "outputs": []
    },
    {
      "cell_type": "code",
      "metadata": {
        "id": "FgsVsOaOOVFx",
        "colab": {
          "base_uri": "https://localhost:8080/",
          "height": 296
        },
        "outputId": "be81f769-06d1-46bd-e28d-35730abe2878"
      },
      "source": [
        "countplot('pclass')\r\n",
        "# Tampak bahwa yang tinggi frekuensinya adalah kelas 3 (lower social economic status)"
      ],
      "execution_count": 527,
      "outputs": [
        {
          "output_type": "execute_result",
          "data": {
            "text/plain": [
              "<matplotlib.axes._subplots.AxesSubplot at 0x7f7177fa2fd0>"
            ]
          },
          "metadata": {
            "tags": []
          },
          "execution_count": 527
        },
        {
          "output_type": "display_data",
          "data": {
            "image/png": "[encoded data removed]",
            "text/plain": [
              "<Figure size 432x288 with 1 Axes>"
            ]
          },
          "metadata": {
            "tags": [],
            "needs_background": "light"
          }
        }
      ]
    },
    {
      "cell_type": "code",
      "metadata": {
        "id": "eSx2cSccOVFy",
        "colab": {
          "base_uri": "https://localhost:8080/",
          "height": 296
        },
        "outputId": "b5261910-544e-4f8c-a447-1a3d6b753fe8"
      },
      "source": [
        "countplot('survived')\r\n",
        "# Tampak bahwa penumpang yang survived lebih sedikit dibanding yang tidak selamat"
      ],
      "execution_count": 528,
      "outputs": [
        {
          "output_type": "execute_result",
          "data": {
            "text/plain": [
              "<matplotlib.axes._subplots.AxesSubplot at 0x7f716f73c110>"
            ]
          },
          "metadata": {
            "tags": []
          },
          "execution_count": 528
        },
        {
          "output_type": "display_data",
          "data": {
            "image/png": "[encoded data removed]",
            "text/plain": [
              "<Figure size 432x288 with 1 Axes>"
            ]
          },
          "metadata": {
            "tags": [],
            "needs_background": "light"
          }
        }
      ]
    },
    {
      "cell_type": "code",
      "metadata": {
        "id": "W4f-aGxWOVFy",
        "colab": {
          "base_uri": "https://localhost:8080/",
          "height": 296
        },
        "outputId": "1148cbd7-9091-4fc6-a939-657574c72d05"
      },
      "source": [
        "countplot('embarked')"
      ],
      "execution_count": 529,
      "outputs": [
        {
          "output_type": "execute_result",
          "data": {
            "text/plain": [
              "<matplotlib.axes._subplots.AxesSubplot at 0x7f71781d3110>"
            ]
          },
          "metadata": {
            "tags": []
          },
          "execution_count": 529
        },
        {
          "output_type": "display_data",
          "data": {
            "image/png": "[encoded data removed]",
            "text/plain": [
              "<Figure size 432x288 with 1 Axes>"
            ]
          },
          "metadata": {
            "tags": [],
            "needs_background": "light"
          }
        }
      ]
    },
    {
      "cell_type": "code",
      "metadata": {
        "id": "55Gf3Nl7OVFz",
        "colab": {
          "base_uri": "https://localhost:8080/",
          "height": 296
        },
        "outputId": "076bd02d-3977-419e-88b8-2830699c27cf"
      },
      "source": [
        "countplot('sex')"
      ],
      "execution_count": 530,
      "outputs": [
        {
          "output_type": "execute_result",
          "data": {
            "text/plain": [
              "<matplotlib.axes._subplots.AxesSubplot at 0x7f7178159fd0>"
            ]
          },
          "metadata": {
            "tags": []
          },
          "execution_count": 530
        },
        {
          "output_type": "display_data",
          "data": {
            "image/png": "[encoded data removed]",
            "text/plain": [
              "<Figure size 432x288 with 1 Axes>"
            ]
          },
          "metadata": {
            "tags": [],
            "needs_background": "light"
          }
        }
      ]
    },
    {
      "cell_type": "code",
      "metadata": {
        "id": "q2E1LoKwOVF0",
        "colab": {
          "base_uri": "https://localhost:8080/",
          "height": 296
        },
        "outputId": "5d076a56-3202-4fb6-b1dd-6ad1fdf51d77"
      },
      "source": [
        "titanic3.plot.scatter(x=\"fare\", y='survived', figsize=(6,4))\r\n",
        "# Dari scatter plot ini tampak ada nilai fare yang sangat besar (outlier) pada penumpang yang survived"
      ],
      "execution_count": 531,
      "outputs": [
        {
          "output_type": "execute_result",
          "data": {
            "text/plain": [
              "<matplotlib.axes._subplots.AxesSubplot at 0x7f71781d6250>"
            ]
          },
          "metadata": {
            "tags": []
          },
          "execution_count": 531
        },
        {
          "output_type": "display_data",
          "data": {
            "image/png": "[encoded data removed]",
            "text/plain": [
              "<Figure size 432x288 with 1 Axes>"
            ]
          },
          "metadata": {
            "tags": [],
            "needs_background": "light"
          }
        }
      ]
    },
    {
      "cell_type": "code",
      "metadata": {
        "id": "Fb0E8Pj3OVF1",
        "colab": {
          "base_uri": "https://localhost:8080/",
          "height": 266
        },
        "outputId": "5cfc38a8-2d6c-4924-f36f-eea53de9a139"
      },
      "source": [
        "# Mendapatkan nilai korelasi (koefisien Person) atribut numerik, dengan method \"corr\"\r\n",
        "titanic3.corr(method='pearson')\r\n"
      ],
      "execution_count": 532,
      "outputs": [
        {
          "output_type": "execute_result",
          "data": {
            "text/html": [
              "<div>\n",
              "<style scoped>\n",
              "    .dataframe tbody tr th:only-of-type {\n",
              "        vertical-align: middle;\n",
              "    }\n",
              "\n",
              "    .dataframe tbody tr th {\n",
              "        vertical-align: top;\n",
              "    }\n",
              "\n",
              "    .dataframe thead th {\n",
              "        text-align: right;\n",
              "    }\n",
              "</style>\n",
              "<table border=\"1\" class=\"dataframe\">\n",
              "  <thead>\n",
              "    <tr style=\"text-align: right;\">\n",
              "      <th></th>\n",
              "      <th>pclass</th>\n",
              "      <th>survived</th>\n",
              "      <th>age</th>\n",
              "      <th>sibsp</th>\n",
              "      <th>parch</th>\n",
              "      <th>fare</th>\n",
              "      <th>body</th>\n",
              "    </tr>\n",
              "  </thead>\n",
              "  <tbody>\n",
              "    <tr>\n",
              "      <th>pclass</th>\n",
              "      <td>1.000000</td>\n",
              "      <td>-0.312469</td>\n",
              "      <td>-0.408106</td>\n",
              "      <td>0.060832</td>\n",
              "      <td>0.018322</td>\n",
              "      <td>-0.558629</td>\n",
              "      <td>-0.034642</td>\n",
              "    </tr>\n",
              "    <tr>\n",
              "      <th>survived</th>\n",
              "      <td>-0.312469</td>\n",
              "      <td>1.000000</td>\n",
              "      <td>-0.055512</td>\n",
              "      <td>-0.027825</td>\n",
              "      <td>0.082660</td>\n",
              "      <td>0.244265</td>\n",
              "      <td>NaN</td>\n",
              "    </tr>\n",
              "    <tr>\n",
              "      <th>age</th>\n",
              "      <td>-0.408106</td>\n",
              "      <td>-0.055512</td>\n",
              "      <td>1.000000</td>\n",
              "      <td>-0.243699</td>\n",
              "      <td>-0.150917</td>\n",
              "      <td>0.178740</td>\n",
              "      <td>0.058809</td>\n",
              "    </tr>\n",
              "    <tr>\n",
              "      <th>sibsp</th>\n",
              "      <td>0.060832</td>\n",
              "      <td>-0.027825</td>\n",
              "      <td>-0.243699</td>\n",
              "      <td>1.000000</td>\n",
              "      <td>0.373587</td>\n",
              "      <td>0.160238</td>\n",
              "      <td>-0.099961</td>\n",
              "    </tr>\n",
              "    <tr>\n",
              "      <th>parch</th>\n",
              "      <td>0.018322</td>\n",
              "      <td>0.082660</td>\n",
              "      <td>-0.150917</td>\n",
              "      <td>0.373587</td>\n",
              "      <td>1.000000</td>\n",
              "      <td>0.221539</td>\n",
              "      <td>0.051099</td>\n",
              "    </tr>\n",
              "    <tr>\n",
              "      <th>fare</th>\n",
              "      <td>-0.558629</td>\n",
              "      <td>0.244265</td>\n",
              "      <td>0.178740</td>\n",
              "      <td>0.160238</td>\n",
              "      <td>0.221539</td>\n",
              "      <td>1.000000</td>\n",
              "      <td>-0.043110</td>\n",
              "    </tr>\n",
              "    <tr>\n",
              "      <th>body</th>\n",
              "      <td>-0.034642</td>\n",
              "      <td>NaN</td>\n",
              "      <td>0.058809</td>\n",
              "      <td>-0.099961</td>\n",
              "      <td>0.051099</td>\n",
              "      <td>-0.043110</td>\n",
              "      <td>1.000000</td>\n",
              "    </tr>\n",
              "  </tbody>\n",
              "</table>\n",
              "</div>"
            ],
            "text/plain": [
              "            pclass  survived       age     sibsp     parch      fare      body\n",
              "pclass    1.000000 -0.312469 -0.408106  0.060832  0.018322 -0.558629 -0.034642\n",
              "survived -0.312469  1.000000 -0.055512 -0.027825  0.082660  0.244265       NaN\n",
              "age      -0.408106 -0.055512  1.000000 -0.243699 -0.150917  0.178740  0.058809\n",
              "sibsp     0.060832 -0.027825 -0.243699  1.000000  0.373587  0.160238 -0.099961\n",
              "parch     0.018322  0.082660 -0.150917  0.373587  1.000000  0.221539  0.051099\n",
              "fare     -0.558629  0.244265  0.178740  0.160238  0.221539  1.000000 -0.043110\n",
              "body     -0.034642       NaN  0.058809 -0.099961  0.051099 -0.043110  1.000000"
            ]
          },
          "metadata": {
            "tags": []
          },
          "execution_count": 532
        }
      ]
    },
    {
      "cell_type": "code",
      "metadata": {
        "id": "QvHNXOTQOVF4"
      },
      "source": [
        "# Mendapatkan nilai korelasi dari atribut nonnumerik, dengan method \"chi2\"\n",
        "def compute_freq_chi2(x,y):\n",
        "    freqtab = pd.crosstab(x,y)\n",
        "    print(\"Frequency table\")\n",
        "    print(\"============================\")\n",
        "    print(freqtab)\n",
        "    print(\"============================\")\n",
        "    chi2,pval,dof,expected = scp.chi2_contingency(freqtab)\n",
        "    print(\"ChiSquare test statistic: \",chi2)\n",
        "    print(\"p-value: \",pval)\n",
        "    return"
      ],
      "execution_count": 533,
      "outputs": []
    },
    {
      "cell_type": "code",
      "metadata": {
        "id": "jLGFqgE3OVF4",
        "colab": {
          "base_uri": "https://localhost:8080/"
        },
        "outputId": "d04297ee-1f06-4013-829f-64a5ac1bcea4"
      },
      "source": [
        "# Korelasi antara survived dengan pclass\r\n",
        "compute_freq_chi2(titanic3.survived,titanic3.pclass)\r\n",
        "# Penumpang kelas 3 yang tidak survive mencapai 500 orang lebih"
      ],
      "execution_count": 534,
      "outputs": [
        {
          "output_type": "stream",
          "text": [
            "Frequency table\n",
            "============================\n",
            "pclass      1    2    3\n",
            "survived               \n",
            "0         123  158  528\n",
            "1         200  119  181\n",
            "============================\n",
            "ChiSquare test statistic:  127.85915643930328\n",
            "p-value:  1.7208259588256052e-28\n"
          ],
          "name": "stdout"
        }
      ]
    },
    {
      "cell_type": "code",
      "metadata": {
        "id": "tukyeBluOVF5",
        "colab": {
          "base_uri": "https://localhost:8080/"
        },
        "outputId": "ec959d3c-5214-4396-cf53-b25570f739db"
      },
      "source": [
        "compute_freq_chi2(titanic3.survived,titanic3.embarked)\r\n",
        "# Embarkasi S paling banyak yang tidak survived"
      ],
      "execution_count": 535,
      "outputs": [
        {
          "output_type": "stream",
          "text": [
            "Frequency table\n",
            "============================\n",
            "embarked    C   Q    S\n",
            "survived              \n",
            "0         120  79  610\n",
            "1         150  44  304\n",
            "============================\n",
            "ChiSquare test statistic:  44.2417430714525\n",
            "p-value:  2.471880987482563e-10\n"
          ],
          "name": "stdout"
        }
      ]
    },
    {
      "cell_type": "code",
      "metadata": {
        "id": "Qa083jRfOVF6",
        "colab": {
          "base_uri": "https://localhost:8080/"
        },
        "outputId": "d4fab238-87f8-485d-e1c7-024c39fbb77a"
      },
      "source": [
        "compute_freq_chi2(titanic3.survived,titanic3.sex)"
      ],
      "execution_count": 536,
      "outputs": [
        {
          "output_type": "stream",
          "text": [
            "Frequency table\n",
            "============================\n",
            "sex       female  male\n",
            "survived              \n",
            "0            127   682\n",
            "1            339   161\n",
            "============================\n",
            "ChiSquare test statistic:  363.6179084388249\n",
            "p-value:  4.589924936952945e-81\n"
          ],
          "name": "stdout"
        }
      ]
    },
    {
      "cell_type": "code",
      "metadata": {
        "id": "jpJMS1_aOVF7",
        "colab": {
          "base_uri": "https://localhost:8080/",
          "height": 279
        },
        "outputId": "06d81c72-8baa-4290-abd4-07f475b6ef0c"
      },
      "source": [
        "sns.boxplot(x=\"embarked\", y=\"fare\", hue=\"survived\", data=titanic3);"
      ],
      "execution_count": 537,
      "outputs": [
        {
          "output_type": "display_data",
          "data": {
            "image/png": "[encoded data removed]",
            "text/plain": [
              "<Figure size 432x288 with 1 Axes>"
            ]
          },
          "metadata": {
            "tags": [],
            "needs_background": "light"
          }
        }
      ]
    },
    {
      "cell_type": "code",
      "metadata": {
        "id": "02ShW0HTOVF7",
        "colab": {
          "base_uri": "https://localhost:8080/",
          "height": 282
        },
        "outputId": "a8c9965d-2363-432a-a598-57946fda54b9"
      },
      "source": [
        "data2 = titanic3.drop(['survived'],axis=1)\n",
        "data2.boxplot(figsize=(20,3))"
      ],
      "execution_count": 538,
      "outputs": [
        {
          "output_type": "stream",
          "text": [
            "/usr/local/lib/python3.7/dist-packages/numpy/core/_asarray.py:83: VisibleDeprecationWarning: Creating an ndarray from ragged nested sequences (which is a list-or-tuple of lists-or-tuples-or ndarrays with different lengths or shapes) is deprecated. If you meant to do this, you must specify 'dtype=object' when creating the ndarray\n",
            "  return array(a, dtype, copy=False, order=order)\n"
          ],
          "name": "stderr"
        },
        {
          "output_type": "execute_result",
          "data": {
            "text/plain": [
              "<matplotlib.axes._subplots.AxesSubplot at 0x7f71784e8b90>"
            ]
          },
          "metadata": {
            "tags": []
          },
          "execution_count": 538
        },
        {
          "output_type": "display_data",
          "data": {
            "image/png": "[encoded data removed]",
            "text/plain": [
              "<Figure size 1440x216 with 1 Axes>"
            ]
          },
          "metadata": {
            "tags": [],
            "needs_background": "light"
          }
        }
      ]
    },
    {
      "cell_type": "code",
      "metadata": {
        "id": "fxKQNL0MNevv"
      },
      "source": [
        ""
      ],
      "execution_count": 538,
      "outputs": []
    },
    {
      "cell_type": "markdown",
      "metadata": {
        "id": "X5IDe2QXOVF8"
      },
      "source": [
        "# 3. Data Preprocessing\r\n",
        "\r\n",
        "Preprocessing data dilakukan untuk menyiapkan dataset agar dapat digunakan pada proses klasifikasi. Pada beberapa algoritma klasifikasi, dibutuhkan preprocessing khusus agar algoritma dapat berjalan dengan baik.\r\n",
        "\r\n",
        "**DISCLAIMER!**  Pada contoh ini, preprocessing yang \r\n",
        "dilakukan dimaksudkan untuk algoritma yang memmiliki karakteristik:\r\n",
        "* sensitif terhadap outlier\r\n",
        "* fitur-fiturnya perlu memiliki range yang setara"
      ]
    },
    {
      "cell_type": "markdown",
      "metadata": {
        "id": "Qs6DEaIu0_-3"
      },
      "source": [
        "## **SOAL 1**\r\n",
        "\r\n",
        "(a) Dari boxplot yang Anda lihat, atribut apa yang mengandung outlier paling banyak?\r\n",
        "\r\n",
        "(b) Buatlah code untuk menampilkan banyaknya outlier pada atribut tersebut!\r\n",
        "\r\n",
        "(c) Apa yang dapat Anda lalukan untuk menangani outlier tersebut? (Impelementasikan dengan code)"
      ]
    },
    {
      "cell_type": "markdown",
      "metadata": {
        "id": "OzTMAe7C7yv-"
      },
      "source": [
        "**1(a).**"
      ]
    },
    {
      "cell_type": "code",
      "metadata": {
        "colab": {
          "base_uri": "https://localhost:8080/",
          "height": 297
        },
        "id": "U2TvAqTMwCCs",
        "outputId": "a0297941-c445-47d7-cef0-0cc85e67d594"
      },
      "source": [
        "titanic3.describe()"
      ],
      "execution_count": 539,
      "outputs": [
        {
          "output_type": "execute_result",
          "data": {
            "text/html": [
              "<div>\n",
              "<style scoped>\n",
              "    .dataframe tbody tr th:only-of-type {\n",
              "        vertical-align: middle;\n",
              "    }\n",
              "\n",
              "    .dataframe tbody tr th {\n",
              "        vertical-align: top;\n",
              "    }\n",
              "\n",
              "    .dataframe thead th {\n",
              "        text-align: right;\n",
              "    }\n",
              "</style>\n",
              "<table border=\"1\" class=\"dataframe\">\n",
              "  <thead>\n",
              "    <tr style=\"text-align: right;\">\n",
              "      <th></th>\n",
              "      <th>pclass</th>\n",
              "      <th>survived</th>\n",
              "      <th>age</th>\n",
              "      <th>sibsp</th>\n",
              "      <th>parch</th>\n",
              "      <th>fare</th>\n",
              "      <th>body</th>\n",
              "    </tr>\n",
              "  </thead>\n",
              "  <tbody>\n",
              "    <tr>\n",
              "      <th>count</th>\n",
              "      <td>1309.000000</td>\n",
              "      <td>1309.000000</td>\n",
              "      <td>1046.000000</td>\n",
              "      <td>1309.000000</td>\n",
              "      <td>1309.000000</td>\n",
              "      <td>1308.000000</td>\n",
              "      <td>121.000000</td>\n",
              "    </tr>\n",
              "    <tr>\n",
              "      <th>mean</th>\n",
              "      <td>2.294882</td>\n",
              "      <td>0.381971</td>\n",
              "      <td>29.881138</td>\n",
              "      <td>0.498854</td>\n",
              "      <td>0.385027</td>\n",
              "      <td>33.295479</td>\n",
              "      <td>160.809917</td>\n",
              "    </tr>\n",
              "    <tr>\n",
              "      <th>std</th>\n",
              "      <td>0.837836</td>\n",
              "      <td>0.486055</td>\n",
              "      <td>14.413493</td>\n",
              "      <td>1.041658</td>\n",
              "      <td>0.865560</td>\n",
              "      <td>51.758668</td>\n",
              "      <td>97.696922</td>\n",
              "    </tr>\n",
              "    <tr>\n",
              "      <th>min</th>\n",
              "      <td>1.000000</td>\n",
              "      <td>0.000000</td>\n",
              "      <td>0.170000</td>\n",
              "      <td>0.000000</td>\n",
              "      <td>0.000000</td>\n",
              "      <td>0.000000</td>\n",
              "      <td>1.000000</td>\n",
              "    </tr>\n",
              "    <tr>\n",
              "      <th>25%</th>\n",
              "      <td>2.000000</td>\n",
              "      <td>0.000000</td>\n",
              "      <td>21.000000</td>\n",
              "      <td>0.000000</td>\n",
              "      <td>0.000000</td>\n",
              "      <td>7.895800</td>\n",
              "      <td>72.000000</td>\n",
              "    </tr>\n",
              "    <tr>\n",
              "      <th>50%</th>\n",
              "      <td>3.000000</td>\n",
              "      <td>0.000000</td>\n",
              "      <td>28.000000</td>\n",
              "      <td>0.000000</td>\n",
              "      <td>0.000000</td>\n",
              "      <td>14.454200</td>\n",
              "      <td>155.000000</td>\n",
              "    </tr>\n",
              "    <tr>\n",
              "      <th>75%</th>\n",
              "      <td>3.000000</td>\n",
              "      <td>1.000000</td>\n",
              "      <td>39.000000</td>\n",
              "      <td>1.000000</td>\n",
              "      <td>0.000000</td>\n",
              "      <td>31.275000</td>\n",
              "      <td>256.000000</td>\n",
              "    </tr>\n",
              "    <tr>\n",
              "      <th>max</th>\n",
              "      <td>3.000000</td>\n",
              "      <td>1.000000</td>\n",
              "      <td>80.000000</td>\n",
              "      <td>8.000000</td>\n",
              "      <td>9.000000</td>\n",
              "      <td>512.329200</td>\n",
              "      <td>328.000000</td>\n",
              "    </tr>\n",
              "  </tbody>\n",
              "</table>\n",
              "</div>"
            ],
            "text/plain": [
              "            pclass     survived  ...         fare        body\n",
              "count  1309.000000  1309.000000  ...  1308.000000  121.000000\n",
              "mean      2.294882     0.381971  ...    33.295479  160.809917\n",
              "std       0.837836     0.486055  ...    51.758668   97.696922\n",
              "min       1.000000     0.000000  ...     0.000000    1.000000\n",
              "25%       2.000000     0.000000  ...     7.895800   72.000000\n",
              "50%       3.000000     0.000000  ...    14.454200  155.000000\n",
              "75%       3.000000     1.000000  ...    31.275000  256.000000\n",
              "max       3.000000     1.000000  ...   512.329200  328.000000\n",
              "\n",
              "[8 rows x 7 columns]"
            ]
          },
          "metadata": {
            "tags": []
          },
          "execution_count": 539
        }
      ]
    },
    {
      "cell_type": "markdown",
      "metadata": {
        "id": "Ef5NpiLhxsw_"
      },
      "source": [
        "Dari summary data diatas, menurut saya bukan merupakan atribut yang relevan untuk melakukan prediksi karena hanya berupa nomor identifikasi tubuh/mayat sehingga tidak perlu melakukan penghilangan outlier.\n",
        "\n",
        "Pclass dan survived juga tidak dilakukan penghilangan outlier karena pclass merupakan data kategori dan survide merupakan atribut yang ingin diprediksi.\n",
        "\n",
        "outlier age, sibsp, dan parch tidak dapat dihitung dengan tekhnik IQR karena nilainya masih masuk akal dan bukan merupakan anomali. namun dengan beberapa asumsi, kita dapat menghitung outlier atribut age berdasarkan asumsi umur dan kebutuhannya akan pedamping.\n",
        "\n",
        "Karena pclass menunjukkan status ekonomi seseorang, maka kita dapat menghitung outlier fare berdasarkan kelasnya dengan IQR"
      ]
    },
    {
      "cell_type": "code",
      "metadata": {
        "colab": {
          "base_uri": "https://localhost:8080/"
        },
        "id": "YGmsOQ29xbLM",
        "outputId": "d9216195-b04d-415f-fe36-80fbe4173d73"
      },
      "source": [
        "# Asumsi anak-anak belum dewasa dan belum butuh pedamping berada di kisaran 0-16 tahun\n",
        "# Dan umur orang tia butuh pendamping berada di kisaran umur >= 65 tahun dan butuh pedamping.\n",
        "\n",
        "data_child = titanic3[titanic3[\"age\"] <= 16]\n",
        "data_elder = titanic3[titanic3[\"age\"] >= 65]\n",
        "print(f\"Jumlah anak-anak: {data_child['parch'].count()}\")\n",
        "print(f\"Jumlah lansia: {data_elder['parch'].count()}\")\n",
        "print(f\"Rata-rata parch pada anak-anak: {data_child['parch'].mean()}\")\n",
        "print(f\"Rata-rata parch pada lansia: {data_elder['parch'].mean()}\")\n",
        "print(f\"Rata-rata parch pada lansia: {data_elder['sibsp'].mean()}\")"
      ],
      "execution_count": 540,
      "outputs": [
        {
          "output_type": "stream",
          "text": [
            "Jumlah anak-anak: 134\n",
            "Jumlah lansia: 13\n",
            "Rata-rata parch pada anak-anak: 1.171641791044776\n",
            "Rata-rata parch pada lansia: 0.15384615384615385\n",
            "Rata-rata parch pada lansia: 0.23076923076923078\n"
          ],
          "name": "stdout"
        }
      ]
    },
    {
      "cell_type": "code",
      "metadata": {
        "id": "jJib93uZ6TMj"
      },
      "source": [
        "## Dari kesimpulan diatas saya mengasumsikan bahwa anak-anak dan orang tua minimal\n",
        "## mempunyai satu pedamping (sibsp / parch) dan untuk anak-anak, pedamping maksimal adalah 2 karena\n",
        "## anak-anak2 diasumsikan belum mempunyai anak pada saat ini.\n",
        "child_outlier = data_child[(data_child['parch'] < 1) | (data_child['parch'] > 2)]\n",
        "elder_outlier = data_elder[(data_elder['parch'] < 1) & (data_elder['sibsp'] < 1)]"
      ],
      "execution_count": 541,
      "outputs": []
    },
    {
      "cell_type": "code",
      "metadata": {
        "colab": {
          "base_uri": "https://localhost:8080/"
        },
        "id": "IDaruu0REg_f",
        "outputId": "1256a20e-3835-4c1f-a697-43aa1b3c79a8"
      },
      "source": [
        "print(f'Jumlah Outlier pada umur anak-anak: {child_outlier[\"age\"].count()}')\n",
        "print(f'Jumlah Outlier pada umur lansia: {elder_outlier[\"age\"].count()}')\n",
        "print(f'Jumlah Outlier anak-anak dan lansia : {elder_outlier[\"age\"].count() + child_outlier[\"age\"].count() }')"
      ],
      "execution_count": 542,
      "outputs": [
        {
          "output_type": "stream",
          "text": [
            "Jumlah Outlier pada umur anak-anak: 27\n",
            "Jumlah Outlier pada umur lansia: 9\n",
            "Jumlah Outlier anak-anak dan lansia : 36\n"
          ],
          "name": "stdout"
        }
      ]
    },
    {
      "cell_type": "markdown",
      "metadata": {
        "id": "A4inRT1wJrGV"
      },
      "source": [
        "Maka kesimpulannya, terdapat 36 outlier berdasarkan pada atribut age dengan faktor outlier pedamping."
      ]
    },
    {
      "cell_type": "code",
      "metadata": {
        "id": "9clvzQNg7MRx",
        "colab": {
          "base_uri": "https://localhost:8080/"
        },
        "outputId": "96cbf0ce-ddaf-43c8-acdc-959bceba075a"
      },
      "source": [
        "# 1(b) Implementasi code di sini\n",
        "\"\"\" \n",
        "Apabila secara naif, kita dapat menghitung outlier pada suatu data dengan\n",
        "membandingkannya langsung dengan IQR\n",
        "\"\"\" \n",
        "q1 = titanic3[\"fare\"].quantile(0.25)\n",
        "q3 = titanic3[\"fare\"].quantile(0.75)\n",
        "print(q3)\n",
        "print(q1)\n",
        "iqr = q3 - q1\n",
        "naiv_lower_bound = q1 - (1.5 * iqr)\n",
        "naiv_upper_bound = q3 + (1.5 * iqr)\n",
        "outlier_data = titanic3[(titanic3[\"fare\"] > naiv_upper_bound) | \n",
        "                        (titanic3[\"fare\"] < naiv_lower_bound) ]\n",
        "print(f\"Banyak outlier pada atribut fare: {outlier_data['fare'].count()}\")\n"
      ],
      "execution_count": 543,
      "outputs": [
        {
          "output_type": "stream",
          "text": [
            "31.275\n",
            "7.8958\n",
            "Banyak outlier pada atribut fare: 171\n"
          ],
          "name": "stdout"
        }
      ]
    },
    {
      "cell_type": "code",
      "metadata": {
        "colab": {
          "base_uri": "https://localhost:8080/",
          "height": 386
        },
        "id": "fas-9rdOa1uN",
        "outputId": "627362c3-7f7a-4173-e33e-2c5c9e8a58bb"
      },
      "source": [
        "sns.displot(data=titanic3['fare'])"
      ],
      "execution_count": 585,
      "outputs": [
        {
          "output_type": "execute_result",
          "data": {
            "text/plain": [
              "<seaborn.axisgrid.FacetGrid at 0x7f716f467110>"
            ]
          },
          "metadata": {
            "tags": []
          },
          "execution_count": 585
        },
        {
          "output_type": "display_data",
          "data": {
            "image/png": "[encoded data removed]",
            "text/plain": [
              "<Figure size 360x360 with 1 Axes>"
            ]
          },
          "metadata": {
            "tags": [],
            "needs_background": "light"
          }
        }
      ]
    },
    {
      "cell_type": "code",
      "metadata": {
        "colab": {
          "base_uri": "https://localhost:8080/",
          "height": 296
        },
        "id": "7L2eOWrZEoCx",
        "outputId": "1659e313-b980-4c5d-b0b1-909c600c656b"
      },
      "source": [
        "# Secara tidak naif, mari kita liat relasi antara pclass dan fare\n",
        "titanic3.plot.scatter(x=\"pclass\", y='fare', figsize=(6,4))"
      ],
      "execution_count": 544,
      "outputs": [
        {
          "output_type": "execute_result",
          "data": {
            "text/plain": [
              "<matplotlib.axes._subplots.AxesSubplot at 0x7f717907e390>"
            ]
          },
          "metadata": {
            "tags": []
          },
          "execution_count": 544
        },
        {
          "output_type": "display_data",
          "data": {
            "image/png": "[encoded data removed]",
            "text/plain": [
              "<Figure size 432x288 with 1 Axes>"
            ]
          },
          "metadata": {
            "tags": [],
            "needs_background": "light"
          }
        }
      ]
    },
    {
      "cell_type": "code",
      "metadata": {
        "colab": {
          "base_uri": "https://localhost:8080/",
          "height": 279
        },
        "id": "i82LRAbNo0LZ",
        "outputId": "64d4ce8a-0f3c-4cc1-ad1d-e57441cf7eba"
      },
      "source": [
        "# Boxplot fare pada pclass=1\n",
        "sns.boxplot(x=\"pclass\", y=\"fare\", data=titanic3[titanic3[\"pclass\"] == 1]);"
      ],
      "execution_count": 545,
      "outputs": [
        {
          "output_type": "display_data",
          "data": {
            "image/png": "[encoded data removed]",
            "text/plain": [
              "<Figure size 432x288 with 1 Axes>"
            ]
          },
          "metadata": {
            "tags": [],
            "needs_background": "light"
          }
        }
      ]
    },
    {
      "cell_type": "code",
      "metadata": {
        "colab": {
          "base_uri": "https://localhost:8080/",
          "height": 386
        },
        "id": "waJOuwciango",
        "outputId": "67e53ac9-f172-4f67-b5f4-a77a56fa739d"
      },
      "source": [
        "sns.displot(data=titanic3[titanic3[\"pclass\"] == 1]['fare'])"
      ],
      "execution_count": 583,
      "outputs": [
        {
          "output_type": "execute_result",
          "data": {
            "text/plain": [
              "<seaborn.axisgrid.FacetGrid at 0x7f71796bd650>"
            ]
          },
          "metadata": {
            "tags": []
          },
          "execution_count": 583
        },
        {
          "output_type": "display_data",
          "data": {
            "image/png": "[encoded data removed]",
            "text/plain": [
              "<Figure size 360x360 with 1 Axes>"
            ]
          },
          "metadata": {
            "tags": [],
            "needs_background": "light"
          }
        }
      ]
    },
    {
      "cell_type": "code",
      "metadata": {
        "colab": {
          "base_uri": "https://localhost:8080/",
          "height": 279
        },
        "id": "Dee4mWmWM2c-",
        "outputId": "72363ce1-e9a9-4b95-8b53-1e13121f4b93"
      },
      "source": [
        "# Boxplot fare pada pclass=2\n",
        "sns.boxplot(x=\"pclass\", y=\"fare\", data=titanic3[titanic3[\"pclass\"] == 2]);"
      ],
      "execution_count": 546,
      "outputs": [
        {
          "output_type": "display_data",
          "data": {
            "image/png": "[encoded data removed]",
            "text/plain": [
              "<Figure size 432x288 with 1 Axes>"
            ]
          },
          "metadata": {
            "tags": [],
            "needs_background": "light"
          }
        }
      ]
    },
    {
      "cell_type": "code",
      "metadata": {
        "colab": {
          "base_uri": "https://localhost:8080/",
          "height": 386
        },
        "id": "rPPq5wgCakBN",
        "outputId": "9128b459-cfc1-4973-a760-de5a8043cae1"
      },
      "source": [
        "sns.displot(data=titanic3[titanic3[\"pclass\"] == 2]['fare'])"
      ],
      "execution_count": 584,
      "outputs": [
        {
          "output_type": "execute_result",
          "data": {
            "text/plain": [
              "<seaborn.axisgrid.FacetGrid at 0x7f716f4fa810>"
            ]
          },
          "metadata": {
            "tags": []
          },
          "execution_count": 584
        },
        {
          "output_type": "display_data",
          "data": {
            "image/png": "[encoded data removed]",
            "text/plain": [
              "<Figure size 360x360 with 1 Axes>"
            ]
          },
          "metadata": {
            "tags": [],
            "needs_background": "light"
          }
        }
      ]
    },
    {
      "cell_type": "code",
      "metadata": {
        "colab": {
          "base_uri": "https://localhost:8080/",
          "height": 279
        },
        "id": "8A637aE9M6Y1",
        "outputId": "17be4a79-8cf3-415f-c75a-cdc1b96b2c94"
      },
      "source": [
        "# Boxplot fare pada pclass=3\n",
        "sns.boxplot(x=\"pclass\", y=\"fare\", data=titanic3[titanic3[\"pclass\"] == 3]);"
      ],
      "execution_count": 547,
      "outputs": [
        {
          "output_type": "display_data",
          "data": {
            "image/png": "[encoded data removed]",
            "text/plain": [
              "<Figure size 432x288 with 1 Axes>"
            ]
          },
          "metadata": {
            "tags": [],
            "needs_background": "light"
          }
        }
      ]
    },
    {
      "cell_type": "code",
      "metadata": {
        "colab": {
          "base_uri": "https://localhost:8080/",
          "height": 386
        },
        "id": "BBfDa3ieYVhB",
        "outputId": "f3d6e260-5f27-4a33-b3b2-059e700f677b"
      },
      "source": [
        "sns.displot(data=titanic3[titanic3[\"pclass\"] == 3]['fare'])"
      ],
      "execution_count": 548,
      "outputs": [
        {
          "output_type": "execute_result",
          "data": {
            "text/plain": [
              "<seaborn.axisgrid.FacetGrid at 0x7f717850d150>"
            ]
          },
          "metadata": {
            "tags": []
          },
          "execution_count": 548
        },
        {
          "output_type": "display_data",
          "data": {
            "image/png": "[encoded data removed]",
            "text/plain": [
              "<Figure size 360x360 with 1 Axes>"
            ]
          },
          "metadata": {
            "tags": [],
            "needs_background": "light"
          }
        }
      ]
    },
    {
      "cell_type": "code",
      "metadata": {
        "colab": {
          "base_uri": "https://localhost:8080/"
        },
        "id": "ri4YCc8pYCjN",
        "outputId": "003badbb-a5f5-43e1-afc5-ce7548626089"
      },
      "source": [
        "print(titanic3[titanic3[\"pclass\"] == 3].quantile(0.75))\n",
        "print(titanic3[titanic3[\"pclass\"] == 3].quantile(0.25))"
      ],
      "execution_count": 582,
      "outputs": [
        {
          "output_type": "stream",
          "text": [
            "pclass        3.00000\n",
            "survived      1.00000\n",
            "age          32.00000\n",
            "sibsp         0.00000\n",
            "parch         0.00000\n",
            "fare         10.50315\n",
            "body        255.00000\n",
            "Name: 0.75, dtype: float64\n",
            "pclass       3.00\n",
            "survived     0.00\n",
            "age         20.00\n",
            "sibsp        0.00\n",
            "parch        0.00\n",
            "fare         7.75\n",
            "body        61.00\n",
            "Name: 0.25, dtype: float64\n"
          ],
          "name": "stdout"
        }
      ]
    },
    {
      "cell_type": "code",
      "metadata": {
        "colab": {
          "base_uri": "https://localhost:8080/"
        },
        "id": "jnhAeLDdEurO",
        "outputId": "a0583773-835b-45a7-84e0-56cd3c53036c"
      },
      "source": [
        "\"\"\"\n",
        "Dari sini kita dapat melihat persebaran harga dari sini kita menghitung banyak outlier \n",
        "sesuai dengan nilai IQR tiap kelas pclass\n",
        "\"\"\"\n",
        "bound_farpcl = [0,0,0]\n",
        "count_outlier = [0,0,0]\n",
        "for ii in range(1,4):\n",
        "  data_fare = titanic3[titanic3[\"pclass\"] == ii]\n",
        "  q1 = data_fare[\"fare\"].quantile(0.25)\n",
        "  q3 = data_fare[\"fare\"].quantile(0.75)\n",
        "  iqr = q3 - q1\n",
        "  lower_bound = q1 - (1.5 * iqr)\n",
        "  upper_bound = q3 + (1.5 * iqr)\n",
        "  outlier_data = data_fare[(data_fare[\"fare\"] > upper_bound) | \n",
        "                        (data_fare[\"fare\"] < lower_bound) ]\n",
        "  bound_farpcl[ii-1] = [lower_bound, upper_bound]\n",
        "  count_outlier[ii-1] = outlier_data['fare'].count()\n",
        "  print(f\"Banyak data pclass={ii}: {data_fare['fare'].count()}\")\n",
        "  print(f\"Banyak Outlier fare pclass={ii}: {count_outlier[ii-1]}\")\n",
        "\n",
        "print(f\"Jumlah outlier: {np.sum(count_outlier)}\")"
      ],
      "execution_count": 550,
      "outputs": [
        {
          "output_type": "stream",
          "text": [
            "Banyak data pclass=1: 323\n",
            "Banyak Outlier fare pclass=1: 25\n",
            "Banyak data pclass=2: 277\n",
            "Banyak Outlier fare pclass=2: 12\n",
            "Banyak data pclass=3: 708\n",
            "Banyak Outlier fare pclass=3: 65\n",
            "Jumlah outlier: 102\n"
          ],
          "name": "stdout"
        }
      ]
    },
    {
      "cell_type": "code",
      "metadata": {
        "id": "gUhzroBcndLF"
      },
      "source": [
        "# Maka dari dua atribut diatas atribut yang mengandung outlier terbanyak,\n",
        "# adalah atribut fare dengan 102 outlier dengan pengkategorian sesuai pclass"
      ],
      "execution_count": 551,
      "outputs": []
    },
    {
      "cell_type": "markdown",
      "metadata": {
        "id": "UaScZU-bOhRh"
      },
      "source": [
        "**Soal 1(b)**\n",
        "dapat melihat pencarian atribut terbanyak dari jawaban nomor 1a."
      ]
    },
    {
      "cell_type": "markdown",
      "metadata": {
        "id": "zHy1Oi5t_rn8"
      },
      "source": [
        "**Soal 1(c)**\n",
        "\n",
        "Karena data outlier sedikit dibandingkan dengan total data > 1000, maka outlier akan dibersihkan dengan cara di drop.\n",
        "\n"
      ]
    },
    {
      "cell_type": "code",
      "metadata": {
        "id": "4FQ--JtdQFon"
      },
      "source": [
        "# menandai data outlier dengan mengganti umur dengan -1\n",
        "def mark_age(cols):\n",
        "  age = cols[0]\n",
        "  parch = cols[1]\n",
        "  sibsp = cols[2]\n",
        "  if age <= 16 and (parch < 1 or parch > 2): \n",
        "    return -1\n",
        "  elif age >= 65 and parch < 1 and sibsp < 1:\n",
        "    return -1\n",
        "  else:\n",
        "    return age\n",
        "\n",
        "titanic3[\"age\"] = titanic3[[\"age\", \"parch\", \"sibsp\"]].apply(mark_age, axis=1)\n",
        "#Drop umur dibawah 0\n",
        "titanic3 = titanic3[titanic3[\"age\"] > 0]"
      ],
      "execution_count": 552,
      "outputs": []
    },
    {
      "cell_type": "code",
      "metadata": {
        "id": "1eChDsQJREo5",
        "colab": {
          "base_uri": "https://localhost:8080/"
        },
        "outputId": "5996c654-1a2e-49cd-ee2d-8038f1b3ce89"
      },
      "source": [
        "\"\"\"\n",
        "Menandai outlier fare dengan nilai fare digganti dengan -1 lalu drop\n",
        "\"\"\"\n",
        "def mark_fare(cols):\n",
        "  pclass = cols[1]\n",
        "  fare = cols[0]\n",
        "  if fare < bound_farpcl[int(pclass)-1][0] or fare > bound_farpcl[int(pclass)-1][1]:\n",
        "    return -1\n",
        "  else:\n",
        "    return fare\n",
        "\n",
        "titanic3[\"fare\"] = titanic3[[\"fare\", \"pclass\"]].apply(mark_fare, axis=1)\n",
        "titanic3 = titanic3[titanic3[\"fare\"] != -1]"
      ],
      "execution_count": 553,
      "outputs": [
        {
          "output_type": "stream",
          "text": [
            "/usr/local/lib/python3.7/dist-packages/ipykernel_launcher.py:12: SettingWithCopyWarning: \n",
            "A value is trying to be set on a copy of a slice from a DataFrame.\n",
            "Try using .loc[row_indexer,col_indexer] = value instead\n",
            "\n",
            "See the caveats in the documentation: https://pandas.pydata.org/pandas-docs/stable/user_guide/indexing.html#returning-a-view-versus-a-copy\n",
            "  if sys.path[0] == '':\n"
          ],
          "name": "stderr"
        }
      ]
    },
    {
      "cell_type": "markdown",
      "metadata": {
        "id": "TvzyUeHjAOEo"
      },
      "source": [
        "**Check Hasil**"
      ]
    },
    {
      "cell_type": "code",
      "metadata": {
        "colab": {
          "base_uri": "https://localhost:8080/"
        },
        "id": "dtpfgMLEi389",
        "outputId": "04eb63fb-ba38-4a90-8ad0-5b851a8b7388"
      },
      "source": [
        "#Cek duplikasi data\r\n",
        "\r\n",
        "titanic3.duplicated(keep=False).sum()"
      ],
      "execution_count": 555,
      "outputs": [
        {
          "output_type": "execute_result",
          "data": {
            "text/plain": [
              "0"
            ]
          },
          "metadata": {
            "tags": []
          },
          "execution_count": 555
        }
      ]
    },
    {
      "cell_type": "code",
      "metadata": {
        "colab": {
          "base_uri": "https://localhost:8080/"
        },
        "id": "TAHKRItUpJBy",
        "outputId": "71461bb0-149e-4d9d-e102-7cd2d0f31052"
      },
      "source": [
        "int(\"3\")"
      ],
      "execution_count": 556,
      "outputs": [
        {
          "output_type": "execute_result",
          "data": {
            "text/plain": [
              "3"
            ]
          },
          "metadata": {
            "tags": []
          },
          "execution_count": 556
        }
      ]
    },
    {
      "cell_type": "code",
      "metadata": {
        "id": "jxmLWlatOVF8"
      },
      "source": [
        "#Cek missing value\n",
        "\n",
        "def cek_null(df):\n",
        "    col_na = df.isnull().sum().sort_values(ascending=False)\n",
        "    percent = col_na / len(df)\n",
        "    \n",
        "    missing_data = pd.concat([col_na, percent], axis=1, keys=['Total', 'Percent'])\n",
        "    print(missing_data[missing_data['Total'] > 0])"
      ],
      "execution_count": 557,
      "outputs": []
    },
    {
      "cell_type": "code",
      "metadata": {
        "id": "G_vYn8ZxOVF9",
        "colab": {
          "base_uri": "https://localhost:8080/"
        },
        "outputId": "af6be6ff-afeb-4d63-c7dd-04ce952b9400"
      },
      "source": [
        "cek_null(titanic3)\r\n",
        "# Tampak beberapa atribut memiliki null value yang sangat banyak\r\n",
        "# Atribut \"body\" memiliki null value hingga 90%, \"cabin\" hingga 77%"
      ],
      "execution_count": 558,
      "outputs": [
        {
          "output_type": "stream",
          "text": [
            "           Total   Percent\n",
            "body         814  0.880000\n",
            "cabin        678  0.732973\n",
            "boat         549  0.593514\n",
            "home.dest    316  0.341622\n",
            "embarked       2  0.002162\n",
            "fare           1  0.001081\n"
          ],
          "name": "stdout"
        }
      ]
    },
    {
      "cell_type": "code",
      "metadata": {
        "colab": {
          "base_uri": "https://localhost:8080/"
        },
        "id": "1Lf9rpqPpQUe",
        "outputId": "f14db003-0f85-457f-fb9e-b6111a3ee865"
      },
      "source": [
        "# Melihat isi cabin (20 baris pertama)\r\n",
        "titanic3['cabin'].head(20)"
      ],
      "execution_count": 559,
      "outputs": [
        {
          "output_type": "execute_result",
          "data": {
            "text/plain": [
              "0          B5\n",
              "1     C22 C26\n",
              "2     C22 C26\n",
              "3     C22 C26\n",
              "4     C22 C26\n",
              "5         E12\n",
              "6          D7\n",
              "7         A36\n",
              "8        C101\n",
              "12        B35\n",
              "13        NaN\n",
              "18        D15\n",
              "19         C6\n",
              "20        D35\n",
              "21        D35\n",
              "22       C148\n",
              "24        C97\n",
              "25        NaN\n",
              "26        B49\n",
              "27        B49\n",
              "Name: cabin, dtype: object"
            ]
          },
          "metadata": {
            "tags": []
          },
          "execution_count": 559
        }
      ]
    },
    {
      "cell_type": "code",
      "metadata": {
        "id": "wDg6qTcuOVF-",
        "colab": {
          "base_uri": "https://localhost:8080/",
          "height": 328
        },
        "outputId": "aea73181-ea01-4aad-caa4-f801a450f4b9"
      },
      "source": [
        "# Melihat berapa penumpang yang survive di tiap cabin\n",
        "(titanic3\n",
        " .groupby([titanic3.cabin.str[:1],'survived'])\n",
        " .survived\n",
        " .count()\n",
        " .unstack())"
      ],
      "execution_count": 560,
      "outputs": [
        {
          "output_type": "execute_result",
          "data": {
            "text/html": [
              "<div>\n",
              "<style scoped>\n",
              "    .dataframe tbody tr th:only-of-type {\n",
              "        vertical-align: middle;\n",
              "    }\n",
              "\n",
              "    .dataframe tbody tr th {\n",
              "        vertical-align: top;\n",
              "    }\n",
              "\n",
              "    .dataframe thead th {\n",
              "        text-align: right;\n",
              "    }\n",
              "</style>\n",
              "<table border=\"1\" class=\"dataframe\">\n",
              "  <thead>\n",
              "    <tr style=\"text-align: right;\">\n",
              "      <th>survived</th>\n",
              "      <th>0</th>\n",
              "      <th>1</th>\n",
              "    </tr>\n",
              "    <tr>\n",
              "      <th>cabin</th>\n",
              "      <th></th>\n",
              "      <th></th>\n",
              "    </tr>\n",
              "  </thead>\n",
              "  <tbody>\n",
              "    <tr>\n",
              "      <th>A</th>\n",
              "      <td>7.0</td>\n",
              "      <td>10.0</td>\n",
              "    </tr>\n",
              "    <tr>\n",
              "      <th>B</th>\n",
              "      <td>15.0</td>\n",
              "      <td>35.0</td>\n",
              "    </tr>\n",
              "    <tr>\n",
              "      <th>C</th>\n",
              "      <td>31.0</td>\n",
              "      <td>46.0</td>\n",
              "    </tr>\n",
              "    <tr>\n",
              "      <th>D</th>\n",
              "      <td>12.0</td>\n",
              "      <td>30.0</td>\n",
              "    </tr>\n",
              "    <tr>\n",
              "      <th>E</th>\n",
              "      <td>9.0</td>\n",
              "      <td>28.0</td>\n",
              "    </tr>\n",
              "    <tr>\n",
              "      <th>F</th>\n",
              "      <td>6.0</td>\n",
              "      <td>12.0</td>\n",
              "    </tr>\n",
              "    <tr>\n",
              "      <th>G</th>\n",
              "      <td>2.0</td>\n",
              "      <td>3.0</td>\n",
              "    </tr>\n",
              "    <tr>\n",
              "      <th>T</th>\n",
              "      <td>1.0</td>\n",
              "      <td>NaN</td>\n",
              "    </tr>\n",
              "  </tbody>\n",
              "</table>\n",
              "</div>"
            ],
            "text/plain": [
              "survived     0     1\n",
              "cabin               \n",
              "A          7.0  10.0\n",
              "B         15.0  35.0\n",
              "C         31.0  46.0\n",
              "D         12.0  30.0\n",
              "E          9.0  28.0\n",
              "F          6.0  12.0\n",
              "G          2.0   3.0\n",
              "T          1.0   NaN"
            ]
          },
          "metadata": {
            "tags": []
          },
          "execution_count": 560
        }
      ]
    },
    {
      "cell_type": "code",
      "metadata": {
        "id": "F98RNY5-OVF_",
        "colab": {
          "base_uri": "https://localhost:8080/",
          "height": 328
        },
        "outputId": "6e24efaa-a309-4474-befb-d7144d12f10a"
      },
      "source": [
        "# Melihat rerata fare di tiap cabin, untuk kelompok yang survived dan tidak survived\n",
        "(titanic3\n",
        " .groupby([titanic3.cabin.str[:1],'survived'])\n",
        " .fare\n",
        " .mean()\n",
        " .unstack())"
      ],
      "execution_count": 561,
      "outputs": [
        {
          "output_type": "execute_result",
          "data": {
            "text/html": [
              "<div>\n",
              "<style scoped>\n",
              "    .dataframe tbody tr th:only-of-type {\n",
              "        vertical-align: middle;\n",
              "    }\n",
              "\n",
              "    .dataframe tbody tr th {\n",
              "        vertical-align: top;\n",
              "    }\n",
              "\n",
              "    .dataframe thead th {\n",
              "        text-align: right;\n",
              "    }\n",
              "</style>\n",
              "<table border=\"1\" class=\"dataframe\">\n",
              "  <thead>\n",
              "    <tr style=\"text-align: right;\">\n",
              "      <th>survived</th>\n",
              "      <th>0</th>\n",
              "      <th>1</th>\n",
              "    </tr>\n",
              "    <tr>\n",
              "      <th>cabin</th>\n",
              "      <th></th>\n",
              "      <th></th>\n",
              "    </tr>\n",
              "  </thead>\n",
              "  <tbody>\n",
              "    <tr>\n",
              "      <th>A</th>\n",
              "      <td>30.456543</td>\n",
              "      <td>50.152490</td>\n",
              "    </tr>\n",
              "    <tr>\n",
              "      <th>B</th>\n",
              "      <td>57.643053</td>\n",
              "      <td>85.812386</td>\n",
              "    </tr>\n",
              "    <tr>\n",
              "      <th>C</th>\n",
              "      <td>100.085890</td>\n",
              "      <td>92.646287</td>\n",
              "    </tr>\n",
              "    <tr>\n",
              "      <th>D</th>\n",
              "      <td>50.962492</td>\n",
              "      <td>56.777647</td>\n",
              "    </tr>\n",
              "    <tr>\n",
              "      <th>E</th>\n",
              "      <td>48.037033</td>\n",
              "      <td>59.251936</td>\n",
              "    </tr>\n",
              "    <tr>\n",
              "      <th>F</th>\n",
              "      <td>12.491667</td>\n",
              "      <td>22.281600</td>\n",
              "    </tr>\n",
              "    <tr>\n",
              "      <th>G</th>\n",
              "      <td>10.462500</td>\n",
              "      <td>16.700000</td>\n",
              "    </tr>\n",
              "    <tr>\n",
              "      <th>T</th>\n",
              "      <td>35.500000</td>\n",
              "      <td>NaN</td>\n",
              "    </tr>\n",
              "  </tbody>\n",
              "</table>\n",
              "</div>"
            ],
            "text/plain": [
              "survived           0          1\n",
              "cabin                          \n",
              "A          30.456543  50.152490\n",
              "B          57.643053  85.812386\n",
              "C         100.085890  92.646287\n",
              "D          50.962492  56.777647\n",
              "E          48.037033  59.251936\n",
              "F          12.491667  22.281600\n",
              "G          10.462500  16.700000\n",
              "T          35.500000        NaN"
            ]
          },
          "metadata": {
            "tags": []
          },
          "execution_count": 561
        }
      ]
    },
    {
      "cell_type": "code",
      "metadata": {
        "colab": {
          "base_uri": "https://localhost:8080/",
          "height": 204
        },
        "id": "SaljTpbZqsvH",
        "outputId": "4f8d4201-0360-4ac2-bae7-d4db03c5939c"
      },
      "source": [
        "#drop atribut yang dianggap tidak penting\r\n",
        "\r\n",
        "titanic3_cleaned = titanic3.drop(['name', 'ticket', 'body', 'cabin','home.dest'], axis=1)\r\n",
        "titanic3_cleaned.head()"
      ],
      "execution_count": 562,
      "outputs": [
        {
          "output_type": "execute_result",
          "data": {
            "text/html": [
              "<div>\n",
              "<style scoped>\n",
              "    .dataframe tbody tr th:only-of-type {\n",
              "        vertical-align: middle;\n",
              "    }\n",
              "\n",
              "    .dataframe tbody tr th {\n",
              "        vertical-align: top;\n",
              "    }\n",
              "\n",
              "    .dataframe thead th {\n",
              "        text-align: right;\n",
              "    }\n",
              "</style>\n",
              "<table border=\"1\" class=\"dataframe\">\n",
              "  <thead>\n",
              "    <tr style=\"text-align: right;\">\n",
              "      <th></th>\n",
              "      <th>pclass</th>\n",
              "      <th>survived</th>\n",
              "      <th>sex</th>\n",
              "      <th>age</th>\n",
              "      <th>sibsp</th>\n",
              "      <th>parch</th>\n",
              "      <th>fare</th>\n",
              "      <th>embarked</th>\n",
              "      <th>boat</th>\n",
              "    </tr>\n",
              "  </thead>\n",
              "  <tbody>\n",
              "    <tr>\n",
              "      <th>0</th>\n",
              "      <td>1</td>\n",
              "      <td>1</td>\n",
              "      <td>female</td>\n",
              "      <td>29.00</td>\n",
              "      <td>0</td>\n",
              "      <td>0</td>\n",
              "      <td>211.3375</td>\n",
              "      <td>S</td>\n",
              "      <td>2</td>\n",
              "    </tr>\n",
              "    <tr>\n",
              "      <th>1</th>\n",
              "      <td>1</td>\n",
              "      <td>1</td>\n",
              "      <td>male</td>\n",
              "      <td>0.92</td>\n",
              "      <td>1</td>\n",
              "      <td>2</td>\n",
              "      <td>151.5500</td>\n",
              "      <td>S</td>\n",
              "      <td>11</td>\n",
              "    </tr>\n",
              "    <tr>\n",
              "      <th>2</th>\n",
              "      <td>1</td>\n",
              "      <td>0</td>\n",
              "      <td>female</td>\n",
              "      <td>2.00</td>\n",
              "      <td>1</td>\n",
              "      <td>2</td>\n",
              "      <td>151.5500</td>\n",
              "      <td>S</td>\n",
              "      <td>NaN</td>\n",
              "    </tr>\n",
              "    <tr>\n",
              "      <th>3</th>\n",
              "      <td>1</td>\n",
              "      <td>0</td>\n",
              "      <td>male</td>\n",
              "      <td>30.00</td>\n",
              "      <td>1</td>\n",
              "      <td>2</td>\n",
              "      <td>151.5500</td>\n",
              "      <td>S</td>\n",
              "      <td>NaN</td>\n",
              "    </tr>\n",
              "    <tr>\n",
              "      <th>4</th>\n",
              "      <td>1</td>\n",
              "      <td>0</td>\n",
              "      <td>female</td>\n",
              "      <td>25.00</td>\n",
              "      <td>1</td>\n",
              "      <td>2</td>\n",
              "      <td>151.5500</td>\n",
              "      <td>S</td>\n",
              "      <td>NaN</td>\n",
              "    </tr>\n",
              "  </tbody>\n",
              "</table>\n",
              "</div>"
            ],
            "text/plain": [
              "   pclass  survived     sex    age  sibsp  parch      fare embarked boat\n",
              "0       1         1  female  29.00      0      0  211.3375        S    2\n",
              "1       1         1    male   0.92      1      2  151.5500        S   11\n",
              "2       1         0  female   2.00      1      2  151.5500        S  NaN\n",
              "3       1         0    male  30.00      1      2  151.5500        S  NaN\n",
              "4       1         0  female  25.00      1      2  151.5500        S  NaN"
            ]
          },
          "metadata": {
            "tags": []
          },
          "execution_count": 562
        }
      ]
    },
    {
      "cell_type": "code",
      "metadata": {
        "colab": {
          "base_uri": "https://localhost:8080/"
        },
        "id": "TSXGJngarAAT",
        "outputId": "7aa1bcf6-073f-45df-e423-c2c1c4e8fdd3"
      },
      "source": [
        "cek_null(titanic3_cleaned)"
      ],
      "execution_count": 563,
      "outputs": [
        {
          "output_type": "stream",
          "text": [
            "          Total   Percent\n",
            "boat        549  0.593514\n",
            "embarked      2  0.002162\n",
            "fare          1  0.001081\n"
          ],
          "name": "stdout"
        }
      ]
    },
    {
      "cell_type": "code",
      "metadata": {
        "id": "vlyjIawArFUI"
      },
      "source": [
        "# Setelah dihapus atribut yang tidak penting, perlu ditangani atribut yang masih mengandung null value\r\n",
        "# Untuk atribut boat, akan null value akan diisi dengan \"None\"\r\n",
        "titanic3_cleaned['boat'] = titanic3_cleaned['boat'].fillna('None')"
      ],
      "execution_count": 564,
      "outputs": []
    },
    {
      "cell_type": "code",
      "metadata": {
        "colab": {
          "base_uri": "https://localhost:8080/",
          "height": 917
        },
        "id": "IMbQ5pRDrgIu",
        "outputId": "4e553202-2b1e-4136-bd8c-218e83b63ef4"
      },
      "source": [
        "#check jumlah yg survived dan tidak jika mempunyai boat atau tidak\r\n",
        "(titanic3_cleaned\r\n",
        " .groupby([titanic3_cleaned.boat,'survived'])\r\n",
        " .boat\r\n",
        " .count()\r\n",
        " .unstack())"
      ],
      "execution_count": 565,
      "outputs": [
        {
          "output_type": "execute_result",
          "data": {
            "text/html": [
              "<div>\n",
              "<style scoped>\n",
              "    .dataframe tbody tr th:only-of-type {\n",
              "        vertical-align: middle;\n",
              "    }\n",
              "\n",
              "    .dataframe tbody tr th {\n",
              "        vertical-align: top;\n",
              "    }\n",
              "\n",
              "    .dataframe thead th {\n",
              "        text-align: right;\n",
              "    }\n",
              "</style>\n",
              "<table border=\"1\" class=\"dataframe\">\n",
              "  <thead>\n",
              "    <tr style=\"text-align: right;\">\n",
              "      <th>survived</th>\n",
              "      <th>0</th>\n",
              "      <th>1</th>\n",
              "    </tr>\n",
              "    <tr>\n",
              "      <th>boat</th>\n",
              "      <th></th>\n",
              "      <th></th>\n",
              "    </tr>\n",
              "  </thead>\n",
              "  <tbody>\n",
              "    <tr>\n",
              "      <th>1</th>\n",
              "      <td>NaN</td>\n",
              "      <td>4.0</td>\n",
              "    </tr>\n",
              "    <tr>\n",
              "      <th>10</th>\n",
              "      <td>NaN</td>\n",
              "      <td>23.0</td>\n",
              "    </tr>\n",
              "    <tr>\n",
              "      <th>11</th>\n",
              "      <td>NaN</td>\n",
              "      <td>24.0</td>\n",
              "    </tr>\n",
              "    <tr>\n",
              "      <th>12</th>\n",
              "      <td>1.0</td>\n",
              "      <td>18.0</td>\n",
              "    </tr>\n",
              "    <tr>\n",
              "      <th>13</th>\n",
              "      <td>NaN</td>\n",
              "      <td>29.0</td>\n",
              "    </tr>\n",
              "    <tr>\n",
              "      <th>13 15</th>\n",
              "      <td>NaN</td>\n",
              "      <td>2.0</td>\n",
              "    </tr>\n",
              "    <tr>\n",
              "      <th>13 15 B</th>\n",
              "      <td>NaN</td>\n",
              "      <td>1.0</td>\n",
              "    </tr>\n",
              "    <tr>\n",
              "      <th>14</th>\n",
              "      <td>NaN</td>\n",
              "      <td>29.0</td>\n",
              "    </tr>\n",
              "    <tr>\n",
              "      <th>15</th>\n",
              "      <td>NaN</td>\n",
              "      <td>31.0</td>\n",
              "    </tr>\n",
              "    <tr>\n",
              "      <th>16</th>\n",
              "      <td>NaN</td>\n",
              "      <td>7.0</td>\n",
              "    </tr>\n",
              "    <tr>\n",
              "      <th>2</th>\n",
              "      <td>NaN</td>\n",
              "      <td>13.0</td>\n",
              "    </tr>\n",
              "    <tr>\n",
              "      <th>3</th>\n",
              "      <td>NaN</td>\n",
              "      <td>20.0</td>\n",
              "    </tr>\n",
              "    <tr>\n",
              "      <th>4</th>\n",
              "      <td>NaN</td>\n",
              "      <td>21.0</td>\n",
              "    </tr>\n",
              "    <tr>\n",
              "      <th>5</th>\n",
              "      <td>NaN</td>\n",
              "      <td>24.0</td>\n",
              "    </tr>\n",
              "    <tr>\n",
              "      <th>5 7</th>\n",
              "      <td>NaN</td>\n",
              "      <td>1.0</td>\n",
              "    </tr>\n",
              "    <tr>\n",
              "      <th>5 9</th>\n",
              "      <td>NaN</td>\n",
              "      <td>1.0</td>\n",
              "    </tr>\n",
              "    <tr>\n",
              "      <th>6</th>\n",
              "      <td>NaN</td>\n",
              "      <td>15.0</td>\n",
              "    </tr>\n",
              "    <tr>\n",
              "      <th>7</th>\n",
              "      <td>NaN</td>\n",
              "      <td>20.0</td>\n",
              "    </tr>\n",
              "    <tr>\n",
              "      <th>8</th>\n",
              "      <td>NaN</td>\n",
              "      <td>21.0</td>\n",
              "    </tr>\n",
              "    <tr>\n",
              "      <th>8 10</th>\n",
              "      <td>NaN</td>\n",
              "      <td>1.0</td>\n",
              "    </tr>\n",
              "    <tr>\n",
              "      <th>9</th>\n",
              "      <td>NaN</td>\n",
              "      <td>19.0</td>\n",
              "    </tr>\n",
              "    <tr>\n",
              "      <th>A</th>\n",
              "      <td>3.0</td>\n",
              "      <td>6.0</td>\n",
              "    </tr>\n",
              "    <tr>\n",
              "      <th>B</th>\n",
              "      <td>1.0</td>\n",
              "      <td>4.0</td>\n",
              "    </tr>\n",
              "    <tr>\n",
              "      <th>C</th>\n",
              "      <td>1.0</td>\n",
              "      <td>21.0</td>\n",
              "    </tr>\n",
              "    <tr>\n",
              "      <th>C D</th>\n",
              "      <td>NaN</td>\n",
              "      <td>2.0</td>\n",
              "    </tr>\n",
              "    <tr>\n",
              "      <th>D</th>\n",
              "      <td>1.0</td>\n",
              "      <td>12.0</td>\n",
              "    </tr>\n",
              "    <tr>\n",
              "      <th>None</th>\n",
              "      <td>535.0</td>\n",
              "      <td>14.0</td>\n",
              "    </tr>\n",
              "  </tbody>\n",
              "</table>\n",
              "</div>"
            ],
            "text/plain": [
              "survived      0     1\n",
              "boat                 \n",
              "1           NaN   4.0\n",
              "10          NaN  23.0\n",
              "11          NaN  24.0\n",
              "12          1.0  18.0\n",
              "13          NaN  29.0\n",
              "13 15       NaN   2.0\n",
              "13 15 B     NaN   1.0\n",
              "14          NaN  29.0\n",
              "15          NaN  31.0\n",
              "16          NaN   7.0\n",
              "2           NaN  13.0\n",
              "3           NaN  20.0\n",
              "4           NaN  21.0\n",
              "5           NaN  24.0\n",
              "5 7         NaN   1.0\n",
              "5 9         NaN   1.0\n",
              "6           NaN  15.0\n",
              "7           NaN  20.0\n",
              "8           NaN  21.0\n",
              "8 10        NaN   1.0\n",
              "9           NaN  19.0\n",
              "A           3.0   6.0\n",
              "B           1.0   4.0\n",
              "C           1.0  21.0\n",
              "C D         NaN   2.0\n",
              "D           1.0  12.0\n",
              "None      535.0  14.0"
            ]
          },
          "metadata": {
            "tags": []
          },
          "execution_count": 565
        }
      ]
    },
    {
      "cell_type": "code",
      "metadata": {
        "colab": {
          "base_uri": "https://localhost:8080/"
        },
        "id": "IIZieScPrn5K",
        "outputId": "a120c02f-d81e-4172-8b7c-85ff027b6553"
      },
      "source": [
        "cek_null(titanic3_cleaned)"
      ],
      "execution_count": 566,
      "outputs": [
        {
          "output_type": "stream",
          "text": [
            "          Total   Percent\n",
            "embarked      2  0.002162\n",
            "fare          1  0.001081\n"
          ],
          "name": "stdout"
        }
      ]
    },
    {
      "cell_type": "code",
      "metadata": {
        "id": "NKY1kVzWrpsV"
      },
      "source": [
        "# Untuk atribute \"age\", null value akan diisi dengan nilai median\r\n",
        "col = [\"age\"]\r\n",
        "for c in col:\r\n",
        "    median = titanic3_cleaned[~titanic3_cleaned.isna()].median()[0]\r\n",
        "    titanic3_cleaned[c] = titanic3_cleaned[c].fillna(median)"
      ],
      "execution_count": 567,
      "outputs": []
    },
    {
      "cell_type": "code",
      "metadata": {
        "id": "tiiVQranr7IZ"
      },
      "source": [
        "# Untuk atribute \"embarked\", null value akan diisi dengan nilai 'C'\r\n",
        "titanic3_cleaned[\"embarked\"] = titanic3_cleaned[\"embarked\"].fillna('C')"
      ],
      "execution_count": 568,
      "outputs": []
    },
    {
      "cell_type": "code",
      "metadata": {
        "colab": {
          "base_uri": "https://localhost:8080/"
        },
        "id": "4bOiT1f9t34j",
        "outputId": "34d8f435-28f9-4126-d975-c821d39a622d"
      },
      "source": [
        "cek_null(titanic3_cleaned)"
      ],
      "execution_count": 569,
      "outputs": [
        {
          "output_type": "stream",
          "text": [
            "      Total   Percent\n",
            "fare      1  0.001081\n"
          ],
          "name": "stdout"
        }
      ]
    },
    {
      "cell_type": "code",
      "metadata": {
        "id": "voxx4-qyOVGI",
        "colab": {
          "base_uri": "https://localhost:8080/",
          "height": 80
        },
        "outputId": "2c8bae38-5109-4a8d-8dce-e9cce6344d74"
      },
      "source": [
        "# Tinggal atribute \"fare\" yang memiliki 1 baris nilai null\r\n",
        "titanic3_cleaned[titanic3_cleaned['fare'].isnull()]"
      ],
      "execution_count": 570,
      "outputs": [
        {
          "output_type": "execute_result",
          "data": {
            "text/html": [
              "<div>\n",
              "<style scoped>\n",
              "    .dataframe tbody tr th:only-of-type {\n",
              "        vertical-align: middle;\n",
              "    }\n",
              "\n",
              "    .dataframe tbody tr th {\n",
              "        vertical-align: top;\n",
              "    }\n",
              "\n",
              "    .dataframe thead th {\n",
              "        text-align: right;\n",
              "    }\n",
              "</style>\n",
              "<table border=\"1\" class=\"dataframe\">\n",
              "  <thead>\n",
              "    <tr style=\"text-align: right;\">\n",
              "      <th></th>\n",
              "      <th>pclass</th>\n",
              "      <th>survived</th>\n",
              "      <th>sex</th>\n",
              "      <th>age</th>\n",
              "      <th>sibsp</th>\n",
              "      <th>parch</th>\n",
              "      <th>fare</th>\n",
              "      <th>embarked</th>\n",
              "      <th>boat</th>\n",
              "    </tr>\n",
              "  </thead>\n",
              "  <tbody>\n",
              "    <tr>\n",
              "      <th>1225</th>\n",
              "      <td>3</td>\n",
              "      <td>0</td>\n",
              "      <td>male</td>\n",
              "      <td>60.5</td>\n",
              "      <td>0</td>\n",
              "      <td>0</td>\n",
              "      <td>NaN</td>\n",
              "      <td>S</td>\n",
              "      <td>None</td>\n",
              "    </tr>\n",
              "  </tbody>\n",
              "</table>\n",
              "</div>"
            ],
            "text/plain": [
              "      pclass  survived   sex   age  sibsp  parch  fare embarked  boat\n",
              "1225       3         0  male  60.5      0      0   NaN        S  None"
            ]
          },
          "metadata": {
            "tags": []
          },
          "execution_count": 570
        }
      ]
    },
    {
      "cell_type": "code",
      "metadata": {
        "id": "vj9pull1OVGK"
      },
      "source": [
        "# Hapus baris yang atribute \"fare\" bernilai null\r\n",
        "titanic3_cleaned.dropna(inplace=True)"
      ],
      "execution_count": 571,
      "outputs": []
    },
    {
      "cell_type": "code",
      "metadata": {
        "colab": {
          "base_uri": "https://localhost:8080/"
        },
        "id": "ISI2cUbBuapN",
        "outputId": "afad8191-1956-480e-b326-400bd0dbed4d"
      },
      "source": [
        "#jumlah baris berubah dari 1309 menjadi 1308 dan jumlah fitur dari 14 menjadi 9\r\n",
        "\r\n",
        "titanic3_cleaned.shape"
      ],
      "execution_count": 572,
      "outputs": [
        {
          "output_type": "execute_result",
          "data": {
            "text/plain": [
              "(924, 9)"
            ]
          },
          "metadata": {
            "tags": []
          },
          "execution_count": 572
        }
      ]
    },
    {
      "cell_type": "code",
      "metadata": {
        "id": "9IFXEigrOVGK",
        "colab": {
          "base_uri": "https://localhost:8080/",
          "height": 204
        },
        "outputId": "0a5e753a-7842-4c98-cd5a-891ec79ce5a9"
      },
      "source": [
        "titanic3_cleaned.head()"
      ],
      "execution_count": 573,
      "outputs": [
        {
          "output_type": "execute_result",
          "data": {
            "text/html": [
              "<div>\n",
              "<style scoped>\n",
              "    .dataframe tbody tr th:only-of-type {\n",
              "        vertical-align: middle;\n",
              "    }\n",
              "\n",
              "    .dataframe tbody tr th {\n",
              "        vertical-align: top;\n",
              "    }\n",
              "\n",
              "    .dataframe thead th {\n",
              "        text-align: right;\n",
              "    }\n",
              "</style>\n",
              "<table border=\"1\" class=\"dataframe\">\n",
              "  <thead>\n",
              "    <tr style=\"text-align: right;\">\n",
              "      <th></th>\n",
              "      <th>pclass</th>\n",
              "      <th>survived</th>\n",
              "      <th>sex</th>\n",
              "      <th>age</th>\n",
              "      <th>sibsp</th>\n",
              "      <th>parch</th>\n",
              "      <th>fare</th>\n",
              "      <th>embarked</th>\n",
              "      <th>boat</th>\n",
              "    </tr>\n",
              "  </thead>\n",
              "  <tbody>\n",
              "    <tr>\n",
              "      <th>0</th>\n",
              "      <td>1</td>\n",
              "      <td>1</td>\n",
              "      <td>female</td>\n",
              "      <td>29.00</td>\n",
              "      <td>0</td>\n",
              "      <td>0</td>\n",
              "      <td>211.3375</td>\n",
              "      <td>S</td>\n",
              "      <td>2</td>\n",
              "    </tr>\n",
              "    <tr>\n",
              "      <th>1</th>\n",
              "      <td>1</td>\n",
              "      <td>1</td>\n",
              "      <td>male</td>\n",
              "      <td>0.92</td>\n",
              "      <td>1</td>\n",
              "      <td>2</td>\n",
              "      <td>151.5500</td>\n",
              "      <td>S</td>\n",
              "      <td>11</td>\n",
              "    </tr>\n",
              "    <tr>\n",
              "      <th>2</th>\n",
              "      <td>1</td>\n",
              "      <td>0</td>\n",
              "      <td>female</td>\n",
              "      <td>2.00</td>\n",
              "      <td>1</td>\n",
              "      <td>2</td>\n",
              "      <td>151.5500</td>\n",
              "      <td>S</td>\n",
              "      <td>None</td>\n",
              "    </tr>\n",
              "    <tr>\n",
              "      <th>3</th>\n",
              "      <td>1</td>\n",
              "      <td>0</td>\n",
              "      <td>male</td>\n",
              "      <td>30.00</td>\n",
              "      <td>1</td>\n",
              "      <td>2</td>\n",
              "      <td>151.5500</td>\n",
              "      <td>S</td>\n",
              "      <td>None</td>\n",
              "    </tr>\n",
              "    <tr>\n",
              "      <th>4</th>\n",
              "      <td>1</td>\n",
              "      <td>0</td>\n",
              "      <td>female</td>\n",
              "      <td>25.00</td>\n",
              "      <td>1</td>\n",
              "      <td>2</td>\n",
              "      <td>151.5500</td>\n",
              "      <td>S</td>\n",
              "      <td>None</td>\n",
              "    </tr>\n",
              "  </tbody>\n",
              "</table>\n",
              "</div>"
            ],
            "text/plain": [
              "   pclass  survived     sex    age  sibsp  parch      fare embarked  boat\n",
              "0       1         1  female  29.00      0      0  211.3375        S     2\n",
              "1       1         1    male   0.92      1      2  151.5500        S    11\n",
              "2       1         0  female   2.00      1      2  151.5500        S  None\n",
              "3       1         0    male  30.00      1      2  151.5500        S  None\n",
              "4       1         0  female  25.00      1      2  151.5500        S  None"
            ]
          },
          "metadata": {
            "tags": []
          },
          "execution_count": 573
        }
      ]
    },
    {
      "cell_type": "code",
      "metadata": {
        "colab": {
          "base_uri": "https://localhost:8080/"
        },
        "id": "fwlxWzK7ujcs",
        "outputId": "c0ce87ef-6f18-4a62-d179-e05565d2fbda"
      },
      "source": [
        "titanic3_cleaned.info()"
      ],
      "execution_count": 574,
      "outputs": [
        {
          "output_type": "stream",
          "text": [
            "<class 'pandas.core.frame.DataFrame'>\n",
            "Int64Index: 924 entries, 0 to 1308\n",
            "Data columns (total 9 columns):\n",
            " #   Column    Non-Null Count  Dtype  \n",
            "---  ------    --------------  -----  \n",
            " 0   pclass    924 non-null    int64  \n",
            " 1   survived  924 non-null    int64  \n",
            " 2   sex       924 non-null    object \n",
            " 3   age       924 non-null    float64\n",
            " 4   sibsp     924 non-null    int64  \n",
            " 5   parch     924 non-null    int64  \n",
            " 6   fare      924 non-null    float64\n",
            " 7   embarked  924 non-null    object \n",
            " 8   boat      924 non-null    object \n",
            "dtypes: float64(2), int64(4), object(3)\n",
            "memory usage: 72.2+ KB\n"
          ],
          "name": "stdout"
        }
      ]
    },
    {
      "cell_type": "code",
      "metadata": {
        "id": "YBTW9QWaunGK"
      },
      "source": [
        "#melakukan label encoding, untuk mengubah data kategorikal bertipe string ke numeric value\r\n",
        "\r\n",
        "col = titanic3_cleaned.select_dtypes(include=[\"object\"]).columns\r\n",
        "\r\n",
        "for c in col:\r\n",
        "    if len(titanic3_cleaned[c].value_counts()) <= 28:\r\n",
        "        le = LabelEncoder() \r\n",
        "        le.fit(list(titanic3_cleaned[c].values)) \r\n",
        "        titanic3_cleaned[c] = le.transform(list(titanic3_cleaned[c].values))"
      ],
      "execution_count": 575,
      "outputs": []
    },
    {
      "cell_type": "code",
      "metadata": {
        "colab": {
          "base_uri": "https://localhost:8080/"
        },
        "id": "xBtyn8GqvKyB",
        "outputId": "215ab332-d89b-43a8-fcf0-59506caca256"
      },
      "source": [
        "titanic3_cleaned.info()"
      ],
      "execution_count": 577,
      "outputs": [
        {
          "output_type": "stream",
          "text": [
            "<class 'pandas.core.frame.DataFrame'>\n",
            "Int64Index: 924 entries, 0 to 1308\n",
            "Data columns (total 9 columns):\n",
            " #   Column    Non-Null Count  Dtype  \n",
            "---  ------    --------------  -----  \n",
            " 0   pclass    924 non-null    int64  \n",
            " 1   survived  924 non-null    int64  \n",
            " 2   sex       924 non-null    int64  \n",
            " 3   age       924 non-null    float64\n",
            " 4   sibsp     924 non-null    int64  \n",
            " 5   parch     924 non-null    int64  \n",
            " 6   fare      924 non-null    float64\n",
            " 7   embarked  924 non-null    int64  \n",
            " 8   boat      924 non-null    int64  \n",
            "dtypes: float64(2), int64(7)\n",
            "memory usage: 72.2 KB\n"
          ],
          "name": "stdout"
        }
      ]
    },
    {
      "cell_type": "code",
      "metadata": {
        "colab": {
          "base_uri": "https://localhost:8080/"
        },
        "id": "uggiX4MEgLJu",
        "outputId": "365c5682-3fcb-44c4-b181-db10c33fbdcc"
      },
      "source": [
        "titanic3_cleaned[\"embarked\"].max()"
      ],
      "execution_count": 586,
      "outputs": [
        {
          "output_type": "execute_result",
          "data": {
            "text/plain": [
              "2"
            ]
          },
          "metadata": {
            "tags": []
          },
          "execution_count": 586
        }
      ]
    },
    {
      "cell_type": "code",
      "metadata": {
        "id": "mSFQ0swwvj1U"
      },
      "source": [
        "# Untuk task klasifikasi, atribut yang menjadi target adalah \"survived\", sedangkan atribut lainnya menjadi predictor\r\n",
        "# Kita akan memisahkan atribut target (Y) dengan atribut predictor (X)\r\n",
        "\r\n",
        "X = titanic3_cleaned.drop('survived', axis=1)\r\n",
        "Y = titanic3_cleaned['survived']"
      ],
      "execution_count": 578,
      "outputs": []
    },
    {
      "cell_type": "code",
      "metadata": {
        "id": "fmPa-37nwFk8"
      },
      "source": [
        "# Dilakukan Normalisasi pada atribut-atribut X \r\n",
        "# Menghasilkan X_scaled, yang merupakan dataset yang sudah \"clean\" dan siap untuk menjadi input untuk machine learning (klasifikasi)\r\n",
        "\r\n",
        "sc = StandardScaler()\r\n",
        "X_scaled = sc.fit_transform(X)"
      ],
      "execution_count": 579,
      "outputs": []
    },
    {
      "cell_type": "markdown",
      "metadata": {
        "id": "PKskkBe55OBI"
      },
      "source": [
        "## **SOAL 2**\r\n",
        "\r\n",
        "(a) Jika akan dilakukan klasifikasi pada data titanic ini, apakah X perlu dinormalisasi?\r\n",
        "\r\n",
        "(b) Bentuk normalisasi apa yang dapat dipilih? Apa alasannya? \r\n",
        "\r\n",
        "(c) Implementasikan bentuk normalisasi yang Anda pilih!\r\n",
        "\r\n",
        "\r\n"
      ]
    },
    {
      "cell_type": "markdown",
      "metadata": {
        "id": "3ZDx064FbYcG"
      },
      "source": [
        "**1(a)** beberapa atribut perlu dinormalisasi"
      ]
    },
    {
      "cell_type": "markdown",
      "metadata": {
        "id": "lNkJfMabftOX"
      },
      "source": [
        "**1(b)** \n",
        "Untuk atribut age, sibsp, parch, fare membutuhkan normalisasi dengan cara zscore/standard score karena data yang akan diterima nanti setelah hasil training dari data tersebut tidak diketahui nilai maksimumnya dan nilai minimumnya sehingga perlu dinormalisasi untuk melakukan klasifikasi.\n",
        "\n",
        "Untuk data pclass, sex, dan embarked dapat dilakukan normalisasi dengan min-max scaler, akan tetapi belum diperlukan karena data tersebut merupakan data categorical dan kita tahu nilai maksimum dan minimumnya.\n",
        "\n",
        "Data boat juga tidak dibutuhkan normalisasi karena data tersebut merupakan nomor indentifikasi lifeboat apabila selamat."
      ]
    },
    {
      "cell_type": "code",
      "metadata": {
        "id": "WmTNVF8kwQcC"
      },
      "source": [
        "# 2(c) Implementasi code di sini\n",
        "X_norm = X.copy()"
      ],
      "execution_count": 581,
      "outputs": []
    },
    {
      "cell_type": "code",
      "metadata": {
        "colab": {
          "base_uri": "https://localhost:8080/",
          "height": 204
        },
        "id": "telmTeoxjaUs",
        "outputId": "4a1f1d9d-05be-4644-c8cb-b8a696f0fea1"
      },
      "source": [
        "cols_name = [\"age\", \"sibsp\", \"parch\", \"fare\"]\n",
        "features = X_norm[cols_name]\n",
        "features = sc.fit_transform(features)\n",
        "X_norm[cols_name] = features\n",
        "X_norm.head()"
      ],
      "execution_count": 593,
      "outputs": [
        {
          "output_type": "execute_result",
          "data": {
            "text/html": [
              "<div>\n",
              "<style scoped>\n",
              "    .dataframe tbody tr th:only-of-type {\n",
              "        vertical-align: middle;\n",
              "    }\n",
              "\n",
              "    .dataframe tbody tr th {\n",
              "        vertical-align: top;\n",
              "    }\n",
              "\n",
              "    .dataframe thead th {\n",
              "        text-align: right;\n",
              "    }\n",
              "</style>\n",
              "<table border=\"1\" class=\"dataframe\">\n",
              "  <thead>\n",
              "    <tr style=\"text-align: right;\">\n",
              "      <th></th>\n",
              "      <th>pclass</th>\n",
              "      <th>sex</th>\n",
              "      <th>age</th>\n",
              "      <th>sibsp</th>\n",
              "      <th>parch</th>\n",
              "      <th>fare</th>\n",
              "      <th>embarked</th>\n",
              "      <th>boat</th>\n",
              "    </tr>\n",
              "  </thead>\n",
              "  <tbody>\n",
              "    <tr>\n",
              "      <th>0</th>\n",
              "      <td>1</td>\n",
              "      <td>0</td>\n",
              "      <td>-0.106696</td>\n",
              "      <td>-0.604494</td>\n",
              "      <td>-0.496155</td>\n",
              "      <td>4.799536</td>\n",
              "      <td>2</td>\n",
              "      <td>10</td>\n",
              "    </tr>\n",
              "    <tr>\n",
              "      <th>1</th>\n",
              "      <td>1</td>\n",
              "      <td>1</td>\n",
              "      <td>-2.185533</td>\n",
              "      <td>1.048027</td>\n",
              "      <td>2.721019</td>\n",
              "      <td>3.215225</td>\n",
              "      <td>2</td>\n",
              "      <td>2</td>\n",
              "    </tr>\n",
              "    <tr>\n",
              "      <th>2</th>\n",
              "      <td>1</td>\n",
              "      <td>0</td>\n",
              "      <td>-2.105578</td>\n",
              "      <td>1.048027</td>\n",
              "      <td>2.721019</td>\n",
              "      <td>3.215225</td>\n",
              "      <td>2</td>\n",
              "      <td>26</td>\n",
              "    </tr>\n",
              "    <tr>\n",
              "      <th>3</th>\n",
              "      <td>1</td>\n",
              "      <td>1</td>\n",
              "      <td>-0.032663</td>\n",
              "      <td>1.048027</td>\n",
              "      <td>2.721019</td>\n",
              "      <td>3.215225</td>\n",
              "      <td>2</td>\n",
              "      <td>26</td>\n",
              "    </tr>\n",
              "    <tr>\n",
              "      <th>4</th>\n",
              "      <td>1</td>\n",
              "      <td>0</td>\n",
              "      <td>-0.402827</td>\n",
              "      <td>1.048027</td>\n",
              "      <td>2.721019</td>\n",
              "      <td>3.215225</td>\n",
              "      <td>2</td>\n",
              "      <td>26</td>\n",
              "    </tr>\n",
              "  </tbody>\n",
              "</table>\n",
              "</div>"
            ],
            "text/plain": [
              "   pclass  sex       age     sibsp     parch      fare  embarked  boat\n",
              "0       1    0 -0.106696 -0.604494 -0.496155  4.799536         2    10\n",
              "1       1    1 -2.185533  1.048027  2.721019  3.215225         2     2\n",
              "2       1    0 -2.105578  1.048027  2.721019  3.215225         2    26\n",
              "3       1    1 -0.032663  1.048027  2.721019  3.215225         2    26\n",
              "4       1    0 -0.402827  1.048027  2.721019  3.215225         2    26"
            ]
          },
          "metadata": {
            "tags": []
          },
          "execution_count": 593
        }
      ]
    },
    {
      "cell_type": "code",
      "metadata": {
        "id": "OPPUfHpyk5AG"
      },
      "source": [
        ""
      ],
      "execution_count": null,
      "outputs": []
    }
  ]
}